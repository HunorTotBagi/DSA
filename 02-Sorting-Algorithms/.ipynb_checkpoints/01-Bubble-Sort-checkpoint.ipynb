{
 "cells": [
  {
   "cell_type": "code",
   "execution_count": 90,
   "id": "fb0dd80f",
   "metadata": {},
   "outputs": [],
   "source": [
    "def BubbleSort(arr):\n",
    "    swap = False\n",
    "    for i in range(len(arr)):\n",
    "        for j in range(1, len(arr) - i):\n",
    "            if arr[j] < arr[j - 1]:\n",
    "                temp = arr[j]\n",
    "                arr[j] = arr[j - 1]\n",
    "                arr[j - 1] = temp\n",
    "                swapped = True\n",
    "        if swap == True:\n",
    "            break\n",
    "    return arr"
   ]
  },
  {
   "cell_type": "markdown",
   "id": "389339a3",
   "metadata": {},
   "source": [
    "Upon completion of the initial iteration through the array, the final element has been moved to its proper position. \n",
    "\n",
    "In the event that no swap was executed during the first pass, it can be inferred that the array is now in sorted order. As a result, the sorting process can be terminated and the final, sorted array can be returned."
   ]
  },
  {
   "cell_type": "code",
   "execution_count": 92,
   "id": "d5638a35",
   "metadata": {},
   "outputs": [
    {
     "data": {
      "text/plain": [
       "[1, 2, 3, 4, 5]"
      ]
     },
     "execution_count": 92,
     "metadata": {},
     "output_type": "execute_result"
    }
   ],
   "source": [
    "BubbleSort([3,1,5,4,2])"
   ]
  },
  {
   "cell_type": "code",
   "execution_count": 93,
   "id": "8435ef9e",
   "metadata": {},
   "outputs": [
    {
     "data": {
      "text/plain": [
       "[1, 2, 3, 4, 5]"
      ]
     },
     "execution_count": 93,
     "metadata": {},
     "output_type": "execute_result"
    }
   ],
   "source": [
    "BubbleSort([1,2,3,4,5])"
   ]
  },
  {
   "cell_type": "code",
   "execution_count": 94,
   "id": "0589cf57",
   "metadata": {},
   "outputs": [
    {
     "data": {
      "text/plain": [
       "[]"
      ]
     },
     "execution_count": 94,
     "metadata": {},
     "output_type": "execute_result"
    }
   ],
   "source": [
    "BubbleSort([])"
   ]
  },
  {
   "cell_type": "code",
   "execution_count": 95,
   "id": "c4638dde",
   "metadata": {},
   "outputs": [
    {
     "data": {
      "text/plain": [
       "[-32, -1, 7, 89]"
      ]
     },
     "execution_count": 95,
     "metadata": {},
     "output_type": "execute_result"
    }
   ],
   "source": [
    "BubbleSort([-1,7,-32,89])"
   ]
  },
  {
   "cell_type": "code",
   "execution_count": 96,
   "id": "c1d4f3b7",
   "metadata": {},
   "outputs": [
    {
     "data": {
      "text/plain": [
       "[-32, -1, 0, 7, 89]"
      ]
     },
     "execution_count": 96,
     "metadata": {},
     "output_type": "execute_result"
    }
   ],
   "source": [
    "BubbleSort([-1,7,-32,0,89])"
   ]
  },
  {
   "cell_type": "markdown",
   "id": "54826cea",
   "metadata": {},
   "source": [
    "### Time comlpexity: $\\mathcal{O}(n^2)$\n",
    "### Space complexity: $\\mathcal{O}(1)$"
   ]
  }
 ],
 "metadata": {
  "kernelspec": {
   "display_name": "Python 3 (ipykernel)",
   "language": "python",
   "name": "python3"
  },
  "language_info": {
   "codemirror_mode": {
    "name": "ipython",
    "version": 3
   },
   "file_extension": ".py",
   "mimetype": "text/x-python",
   "name": "python",
   "nbconvert_exporter": "python",
   "pygments_lexer": "ipython3",
   "version": "3.9.13"
  }
 },
 "nbformat": 4,
 "nbformat_minor": 5
}
