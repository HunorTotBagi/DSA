{
 "cells": [
  {
   "cell_type": "code",
   "execution_count": 6,
   "id": "cd41ca71",
   "metadata": {},
   "outputs": [],
   "source": [
    "# This functions merges two sorted\n",
    "# array into a sorted array.\n",
    "\n",
    "# My frist approach to Merge function.\n",
    "\n",
    "def Merge(a,b):\n",
    "    i=0\n",
    "    j=0\n",
    "    merged = []\n",
    "    while i != len(a) and j != len(b):\n",
    "        if a[i] < b[j]:\n",
    "            merged.append(a[i])\n",
    "            i += 1\n",
    "        else:\n",
    "            merged.append(b[j])\n",
    "            j += 1\n",
    "            \n",
    "    # it may be possible that one of \n",
    "    # the array is not complete\n",
    "    \n",
    "    if i > j:\n",
    "        for k in range(j,len(b)):\n",
    "            merged.append(b[k])\n",
    "    else:\n",
    "        for k in range(i,len(a)):\n",
    "            merged.append(a[k])\n",
    "    return merged"
   ]
  },
  {
   "cell_type": "code",
   "execution_count": 5,
   "id": "cf1c930a",
   "metadata": {},
   "outputs": [],
   "source": [
    "# Second approach to Merge function\n",
    "\n",
    "def Merge1(a,b):\n",
    "    i=0\n",
    "    j=0\n",
    "    merged = []\n",
    "    while i < len(a) and j < len(b):\n",
    "        if a[i] < b[j]:\n",
    "            merged.append(a[i])\n",
    "            i += 1\n",
    "        else:\n",
    "            merged.append(b[j])\n",
    "            j += 1\n",
    "    while i < len(a):\n",
    "        merged.append(a[i])\n",
    "        i += 1\n",
    "    while j < len(b):\n",
    "        merged.append(b[j])\n",
    "        j += 1\n",
    "    return merged"
   ]
  },
  {
   "cell_type": "code",
   "execution_count": 7,
   "id": "4a2dfff4",
   "metadata": {},
   "outputs": [
    {
     "data": {
      "text/plain": [
       "[[3], [4], [5], [6], [8], [12]]"
      ]
     },
     "execution_count": 7,
     "metadata": {},
     "output_type": "execute_result"
    }
   ],
   "source": [
    "def mergeSort(arr):\n",
    "    if len(arr) == 1:\n",
    "        return [arr]\n",
    "    mid = int(len(arr)/2)\n",
    "    left = mergeSort(arr[0:mid])\n",
    "    right = mergeSort(arr[mid:len(arr)])\n",
    "    return Merge(left,right)\n",
    "\n",
    "mergeSort([8,3,4,12,5,6])"
   ]
  }
 ],
 "metadata": {
  "kernelspec": {
   "display_name": "Python 3 (ipykernel)",
   "language": "python",
   "name": "python3"
  },
  "language_info": {
   "codemirror_mode": {
    "name": "ipython",
    "version": 3
   },
   "file_extension": ".py",
   "mimetype": "text/x-python",
   "name": "python",
   "nbconvert_exporter": "python",
   "pygments_lexer": "ipython3",
   "version": "3.9.13"
  }
 },
 "nbformat": 4,
 "nbformat_minor": 5
}
