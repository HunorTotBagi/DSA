{
 "cells": [
  {
   "cell_type": "code",
   "execution_count": 26,
   "id": "88bef334",
   "metadata": {
    "scrolled": true
   },
   "outputs": [
    {
     "name": "stdout",
     "output_type": "stream",
     "text": [
      "[1, 2, 3, 4, 5, 6]\n"
     ]
    }
   ],
   "source": [
    "# Implement the Bubble Sort algorithm with recursion.\n",
    "\n",
    "def BubbleSortRecursion(arr, r, c):\n",
    "    if r == 0:\n",
    "        return\n",
    "    \n",
    "    if c < r:\n",
    "        \n",
    "        if arr[c] > arr[c+1]:\n",
    "            \n",
    "            temp = arr[c]\n",
    "            arr[c] = arr[c+1]\n",
    "            arr[c+1] = temp\n",
    "            \n",
    "        BubbleSortRecursion(arr, r, c+1)\n",
    "    else:\n",
    "        BubbleSortRecursion(arr, r-1,0)\n",
    "\n",
    "        \n",
    "arr = [6,5,4,3,2,1]\n",
    "BubbleSortRecursion(arr, len(arr)-1, 0)\n",
    "print(arr)"
   ]
  }
 ],
 "metadata": {
  "kernelspec": {
   "display_name": "Python 3 (ipykernel)",
   "language": "python",
   "name": "python3"
  },
  "language_info": {
   "codemirror_mode": {
    "name": "ipython",
    "version": 3
   },
   "file_extension": ".py",
   "mimetype": "text/x-python",
   "name": "python",
   "nbconvert_exporter": "python",
   "pygments_lexer": "ipython3",
   "version": "3.9.13"
  }
 },
 "nbformat": 4,
 "nbformat_minor": 5
}
