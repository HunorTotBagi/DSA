{
 "cells": [
  {
   "cell_type": "code",
   "execution_count": 2,
   "id": "ad2cbaf3",
   "metadata": {},
   "outputs": [],
   "source": [
    "# This functions merges two sorted\n",
    "# array into a sorted array.\n",
    "\n",
    "def Merge(a,b):\n",
    "    i=0\n",
    "    j=0\n",
    "    merged = []\n",
    "    while i != len(a) and j != len(b):\n",
    "        if a[i] < b[j]:\n",
    "            merged.append(a[i])\n",
    "            i += 1\n",
    "        else:\n",
    "            merged.append(b[j])\n",
    "            j += 1\n",
    "            \n",
    "    # it may be possible that one of \n",
    "    # the array is not complete\n",
    "    \n",
    "    if i > j:\n",
    "        for k in range(j,len(b)):\n",
    "            merged.append(b[k])\n",
    "    else:\n",
    "        for k in range(i,len(a)):\n",
    "            merged.append(a[k])\n",
    "    return merged"
   ]
  },
  {
   "cell_type": "code",
   "execution_count": 215,
   "id": "20baea2f",
   "metadata": {},
   "outputs": [
    {
     "data": {
      "text/plain": [
       "[3, 4, 5, 6, 8, 12]"
      ]
     },
     "execution_count": 215,
     "metadata": {},
     "output_type": "execute_result"
    }
   ],
   "source": [
    "Merge([3,4,8],[5,6,12])"
   ]
  },
  {
   "cell_type": "code",
   "execution_count": 216,
   "id": "47b84c62",
   "metadata": {},
   "outputs": [
    {
     "data": {
      "text/plain": [
       "[1, 2, 3, 4, 5, 6]"
      ]
     },
     "execution_count": 216,
     "metadata": {},
     "output_type": "execute_result"
    }
   ],
   "source": [
    "Merge([1,2,3],[4,5,6])"
   ]
  },
  {
   "cell_type": "code",
   "execution_count": 217,
   "id": "6cb1966f",
   "metadata": {},
   "outputs": [
    {
     "data": {
      "text/plain": [
       "[1, 2, 3, 20, 21, 22, 23, 24]"
      ]
     },
     "execution_count": 217,
     "metadata": {},
     "output_type": "execute_result"
    }
   ],
   "source": [
    "Merge([20,21,22,23,24],[1,2,3])"
   ]
  },
  {
   "cell_type": "code",
   "execution_count": 218,
   "id": "7e6acbfc",
   "metadata": {},
   "outputs": [
    {
     "data": {
      "text/plain": [
       "[1, 2, 3, 20, 21, 22, 23, 24]"
      ]
     },
     "execution_count": 218,
     "metadata": {},
     "output_type": "execute_result"
    }
   ],
   "source": [
    "Merge([1,2,3],[20,21,22,23,24])"
   ]
  },
  {
   "cell_type": "code",
   "execution_count": 219,
   "id": "4543ac6f",
   "metadata": {},
   "outputs": [
    {
     "data": {
      "text/plain": [
       "[1, 2, 3, 20, 21, 22, 23, 24]"
      ]
     },
     "execution_count": 219,
     "metadata": {},
     "output_type": "execute_result"
    }
   ],
   "source": [
    "Merge([1,2,20],[3,21,22,23,24])"
   ]
  },
  {
   "cell_type": "code",
   "execution_count": 222,
   "id": "e59e76ae",
   "metadata": {},
   "outputs": [
    {
     "data": {
      "text/plain": [
       "[7, 210]"
      ]
     },
     "execution_count": 222,
     "metadata": {},
     "output_type": "execute_result"
    }
   ],
   "source": [
    "Merge([210],[7])"
   ]
  },
  {
   "cell_type": "code",
   "execution_count": null,
   "id": "3d34a999",
   "metadata": {},
   "outputs": [],
   "source": [
    "def mergeSort(arr):\n",
    "    \n",
    "    if len(arr) == 1:\n",
    "        return arr\n",
    "    \n",
    "    mid = int(len(arr)/2)\n",
    "    \n",
    "    left = mergeSort(arr[0:mid])\n",
    "    right = mergeSort(arr[mid:len(arr)-1])\n",
    "    \n",
    "    return Merge(left,right)\n",
    "\n",
    "mergeSort([8,3,4,12,5,6])"
   ]
  }
 ],
 "metadata": {
  "kernelspec": {
   "display_name": "Python 3 (ipykernel)",
   "language": "python",
   "name": "python3"
  },
  "language_info": {
   "codemirror_mode": {
    "name": "ipython",
    "version": 3
   },
   "file_extension": ".py",
   "mimetype": "text/x-python",
   "name": "python",
   "nbconvert_exporter": "python",
   "pygments_lexer": "ipython3",
   "version": "3.9.13"
  }
 },
 "nbformat": 4,
 "nbformat_minor": 5
}
