{
 "cells": [
  {
   "cell_type": "code",
   "execution_count": 104,
   "id": "dba604b9",
   "metadata": {},
   "outputs": [],
   "source": [
    "#This will work only if the arrays is sorted. \n",
    "#Meaning the aray is in ascending order."
   ]
  },
  {
   "cell_type": "code",
   "execution_count": 105,
   "id": "e6b89996",
   "metadata": {},
   "outputs": [],
   "source": [
    "#Input values the given array, and the target that we are searching for\n",
    "def BinarySearch(arr, target):\n",
    "    start = 0 # Starting inted\n",
    "    end = len(arr)-1 # -1 because we need number of indexes\n",
    "    finder = int((start + end) / 2) # int to round the number\n",
    "    if arr[finder] == target:\n",
    "        return finder\n",
    "    else:\n",
    "        while arr[finder] != target: \n",
    "            finder = int((start + end) / 2)\n",
    "            if arr[finder] == target:\n",
    "                return finder\n",
    "                break\n",
    "            if target < arr[finder]:\n",
    "                end = finder\n",
    "            else:\n",
    "                start = finder"
   ]
  },
  {
   "cell_type": "markdown",
   "id": "0fc418c1",
   "metadata": {},
   "source": [
    "## Test Case 1 - If the target is right to the middle element"
   ]
  },
  {
   "cell_type": "code",
   "execution_count": 106,
   "id": "4b80e008",
   "metadata": {},
   "outputs": [],
   "source": [
    "arr1 = [2,4,6,9,11,12,14,20,36,48]\n",
    "target1 = 36"
   ]
  },
  {
   "cell_type": "code",
   "execution_count": 107,
   "id": "86f58fa3",
   "metadata": {},
   "outputs": [
    {
     "data": {
      "text/plain": [
       "8"
      ]
     },
     "execution_count": 107,
     "metadata": {},
     "output_type": "execute_result"
    }
   ],
   "source": [
    "BinarySearch(arr1, target1)"
   ]
  },
  {
   "cell_type": "code",
   "execution_count": 108,
   "id": "bebecde7",
   "metadata": {},
   "outputs": [
    {
     "data": {
      "text/plain": [
       "36"
      ]
     },
     "execution_count": 108,
     "metadata": {},
     "output_type": "execute_result"
    }
   ],
   "source": [
    "arr1[8]"
   ]
  },
  {
   "cell_type": "markdown",
   "id": "a8c3e4fc",
   "metadata": {},
   "source": [
    "## Test Case 2 - If the target is left to the middle element"
   ]
  },
  {
   "cell_type": "code",
   "execution_count": 109,
   "id": "8aaf1ee9",
   "metadata": {},
   "outputs": [],
   "source": [
    "arr2 = [1,6,7,99,101,123,124,199,258,666,699,10555,201111]\n",
    "target2 = 7"
   ]
  },
  {
   "cell_type": "code",
   "execution_count": 110,
   "id": "96429e02",
   "metadata": {},
   "outputs": [
    {
     "data": {
      "text/plain": [
       "2"
      ]
     },
     "execution_count": 110,
     "metadata": {},
     "output_type": "execute_result"
    }
   ],
   "source": [
    "BinarySearch(arr2, target2)"
   ]
  },
  {
   "cell_type": "code",
   "execution_count": 111,
   "id": "1d67061f",
   "metadata": {},
   "outputs": [
    {
     "data": {
      "text/plain": [
       "7"
      ]
     },
     "execution_count": 111,
     "metadata": {},
     "output_type": "execute_result"
    }
   ],
   "source": [
    "arr2[2]"
   ]
  },
  {
   "cell_type": "markdown",
   "id": "95942efa",
   "metadata": {},
   "source": [
    "# Test Case 3 - The element is in the middle"
   ]
  },
  {
   "cell_type": "code",
   "execution_count": 112,
   "id": "28bb9a78",
   "metadata": {},
   "outputs": [],
   "source": [
    "arr3 = [1,11,25,75,88,247,666]\n",
    "target3 = 75"
   ]
  },
  {
   "cell_type": "code",
   "execution_count": 113,
   "id": "a410536c",
   "metadata": {},
   "outputs": [
    {
     "data": {
      "text/plain": [
       "3"
      ]
     },
     "execution_count": 113,
     "metadata": {},
     "output_type": "execute_result"
    }
   ],
   "source": [
    "BinarySearch(arr3, target3)"
   ]
  },
  {
   "cell_type": "code",
   "execution_count": 114,
   "id": "da74ca5e",
   "metadata": {},
   "outputs": [
    {
     "data": {
      "text/plain": [
       "75"
      ]
     },
     "execution_count": 114,
     "metadata": {},
     "output_type": "execute_result"
    }
   ],
   "source": [
    "arr3[3]"
   ]
  }
 ],
 "metadata": {
  "kernelspec": {
   "display_name": "Python 3 (ipykernel)",
   "language": "python",
   "name": "python3"
  },
  "language_info": {
   "codemirror_mode": {
    "name": "ipython",
    "version": 3
   },
   "file_extension": ".py",
   "mimetype": "text/x-python",
   "name": "python",
   "nbconvert_exporter": "python",
   "pygments_lexer": "ipython3",
   "version": "3.9.13"
  }
 },
 "nbformat": 4,
 "nbformat_minor": 5
}
