{
 "cells": [
  {
   "cell_type": "code",
   "execution_count": 31,
   "id": "ab3f941c",
   "metadata": {},
   "outputs": [],
   "source": [
    "#This will work only if the arrays is sorted. \n",
    "#Meaning the aray is in ascending order."
   ]
  },
  {
   "cell_type": "code",
   "execution_count": 21,
   "id": "ec5be5b4",
   "metadata": {},
   "outputs": [],
   "source": [
    "#Input values the given array, and the target that we are searching for\n",
    "def BinarySearch(arr, target):\n",
    "    start = 0 # Starting inted\n",
    "    end = len(arr)-1 # -1 because we need number of indexes\n",
    "    finder = int((start + end) / 2) # int to round the number \n",
    "    while arr[finder] != target: \n",
    "        finder = int((start + end) / 2)\n",
    "        if arr[finder] == target:\n",
    "            return finder\n",
    "        if target < arr[finder]:\n",
    "            end = finder\n",
    "        else:\n",
    "            start = finder"
   ]
  },
  {
   "cell_type": "markdown",
   "id": "452b6668",
   "metadata": {},
   "source": [
    "# Test Case 1"
   ]
  },
  {
   "cell_type": "code",
   "execution_count": null,
   "id": "1a80583d",
   "metadata": {},
   "outputs": [],
   "source": [
    "arr = [2,4,6,9,11,12,14,20,36,48]\n",
    "target = 36"
   ]
  },
  {
   "cell_type": "code",
   "execution_count": 23,
   "id": "7f5cd36b",
   "metadata": {},
   "outputs": [
    {
     "data": {
      "text/plain": [
       "8"
      ]
     },
     "execution_count": 23,
     "metadata": {},
     "output_type": "execute_result"
    }
   ],
   "source": [
    "BinarySearch(arr, target)"
   ]
  },
  {
   "cell_type": "code",
   "execution_count": 24,
   "id": "3a7dd57e",
   "metadata": {},
   "outputs": [
    {
     "data": {
      "text/plain": [
       "36"
      ]
     },
     "execution_count": 24,
     "metadata": {},
     "output_type": "execute_result"
    }
   ],
   "source": [
    "arr[8]"
   ]
  },
  {
   "cell_type": "markdown",
   "id": "68614364",
   "metadata": {},
   "source": [
    "# Test Case 2"
   ]
  },
  {
   "cell_type": "code",
   "execution_count": 27,
   "id": "67e6298f",
   "metadata": {},
   "outputs": [],
   "source": [
    "arr1 = [1,6,8,99,101,123,124,199,258,666,699,10555,201111]\n",
    "target1 = 8"
   ]
  },
  {
   "cell_type": "code",
   "execution_count": 28,
   "id": "f3d88f86",
   "metadata": {},
   "outputs": [
    {
     "data": {
      "text/plain": [
       "2"
      ]
     },
     "execution_count": 28,
     "metadata": {},
     "output_type": "execute_result"
    }
   ],
   "source": [
    "BinarySearch(arr1, target1)"
   ]
  },
  {
   "cell_type": "code",
   "execution_count": 29,
   "id": "ec2b26cf",
   "metadata": {},
   "outputs": [
    {
     "data": {
      "text/plain": [
       "8"
      ]
     },
     "execution_count": 29,
     "metadata": {},
     "output_type": "execute_result"
    }
   ],
   "source": [
    "arr1[2]"
   ]
  }
 ],
 "metadata": {
  "kernelspec": {
   "display_name": "Python 3 (ipykernel)",
   "language": "python",
   "name": "python3"
  },
  "language_info": {
   "codemirror_mode": {
    "name": "ipython",
    "version": 3
   },
   "file_extension": ".py",
   "mimetype": "text/x-python",
   "name": "python",
   "nbconvert_exporter": "python",
   "pygments_lexer": "ipython3",
   "version": "3.9.13"
  }
 },
 "nbformat": 4,
 "nbformat_minor": 5
}
