{
 "cells": [
  {
   "cell_type": "code",
   "execution_count": 31,
   "id": "31deeb78",
   "metadata": {},
   "outputs": [],
   "source": [
    "#This will work only if the arrays is sorted. \n",
    "#Meaning the aray is in ascending or descending order."
   ]
  },
  {
   "cell_type": "code",
   "execution_count": 21,
   "id": "40dc78e6",
   "metadata": {},
   "outputs": [],
   "source": [
    "#Input values the given array, and the target that we are searching for\n",
    "def BinarySearch(arr, target):\n",
    "    start = 0 # Starting inted\n",
    "    end = len(arr)-1 # -1 because we need number of indexes\n",
    "    finder = int((start + end) / 2) # int to round the number \n",
    "    while arr[finder] != target: \n",
    "        finder = int((start + end) / 2)\n",
    "        if arr[finder] == target:\n",
    "            return finder\n",
    "        if target < arr[finder]:\n",
    "            end = finder\n",
    "        else:\n",
    "            start = finder"
   ]
  },
  {
   "cell_type": "markdown",
   "id": "17d75c1c",
   "metadata": {},
   "source": [
    "# Test Case 1"
   ]
  },
  {
   "cell_type": "code",
   "execution_count": null,
   "id": "dc64da13",
   "metadata": {},
   "outputs": [],
   "source": [
    "arr = [2,4,6,9,11,12,14,20,36,48]\n",
    "target = 36"
   ]
  },
  {
   "cell_type": "code",
   "execution_count": 23,
   "id": "d65cf83b",
   "metadata": {},
   "outputs": [
    {
     "data": {
      "text/plain": [
       "8"
      ]
     },
     "execution_count": 23,
     "metadata": {},
     "output_type": "execute_result"
    }
   ],
   "source": [
    "BinarySearch(arr, target)"
   ]
  },
  {
   "cell_type": "code",
   "execution_count": 24,
   "id": "522a6fa3",
   "metadata": {},
   "outputs": [
    {
     "data": {
      "text/plain": [
       "36"
      ]
     },
     "execution_count": 24,
     "metadata": {},
     "output_type": "execute_result"
    }
   ],
   "source": [
    "arr[8]"
   ]
  },
  {
   "cell_type": "markdown",
   "id": "90f3575b",
   "metadata": {},
   "source": [
    "# Test Case 2"
   ]
  },
  {
   "cell_type": "code",
   "execution_count": 27,
   "id": "b7f767e8",
   "metadata": {},
   "outputs": [],
   "source": [
    "arr1 = [1,6,8,99,101,123,124,199,258,666,699,10555,201111]\n",
    "target1 = 8"
   ]
  },
  {
   "cell_type": "code",
   "execution_count": 28,
   "id": "62851404",
   "metadata": {},
   "outputs": [
    {
     "data": {
      "text/plain": [
       "2"
      ]
     },
     "execution_count": 28,
     "metadata": {},
     "output_type": "execute_result"
    }
   ],
   "source": [
    "BinarySearch(arr1, target1)"
   ]
  },
  {
   "cell_type": "code",
   "execution_count": 29,
   "id": "3595f3cd",
   "metadata": {},
   "outputs": [
    {
     "data": {
      "text/plain": [
       "8"
      ]
     },
     "execution_count": 29,
     "metadata": {},
     "output_type": "execute_result"
    }
   ],
   "source": [
    "arr1[2]"
   ]
  },
  {
   "cell_type": "markdown",
   "id": "94ef00df",
   "metadata": {},
   "source": [
    "# Test Case 3"
   ]
  },
  {
   "cell_type": "code",
   "execution_count": 35,
   "id": "dfcb922f",
   "metadata": {},
   "outputs": [],
   "source": [
    "arr2 = [99,65,45,38,24,16,9,8,7,6,2,1]\n",
    "target2 = 2"
   ]
  },
  {
   "cell_type": "code",
   "execution_count": null,
   "id": "c48423d1",
   "metadata": {},
   "outputs": [],
   "source": [
    "BinarySearch(arr2, target2)"
   ]
  },
  {
   "cell_type": "code",
   "execution_count": null,
   "id": "dab3a38f",
   "metadata": {},
   "outputs": [],
   "source": []
  }
 ],
 "metadata": {
  "kernelspec": {
   "display_name": "Python 3 (ipykernel)",
   "language": "python",
   "name": "python3"
  },
  "language_info": {
   "codemirror_mode": {
    "name": "ipython",
    "version": 3
   },
   "file_extension": ".py",
   "mimetype": "text/x-python",
   "name": "python",
   "nbconvert_exporter": "python",
   "pygments_lexer": "ipython3",
   "version": "3.9.13"
  }
 },
 "nbformat": 4,
 "nbformat_minor": 5
}
