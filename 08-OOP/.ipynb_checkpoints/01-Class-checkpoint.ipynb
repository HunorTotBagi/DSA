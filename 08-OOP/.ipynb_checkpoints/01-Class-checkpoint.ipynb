{
 "cells": [
  {
   "cell_type": "code",
   "execution_count": 20,
   "id": "cb104384",
   "metadata": {},
   "outputs": [],
   "source": [
    "class Student:\n",
    "    def __init__(self, number, name, mark):\n",
    "        self.number = number\n",
    "        self.name = name\n",
    "        self.mark = mark\n",
    "        \n",
    "    def learning(self):\n",
    "        print(\"Learning\")"
   ]
  },
  {
   "cell_type": "code",
   "execution_count": 21,
   "id": "0fe8e976",
   "metadata": {},
   "outputs": [],
   "source": [
    "Student1 = Student(20, \"Petar\", 92)"
   ]
  },
  {
   "cell_type": "code",
   "execution_count": 22,
   "id": "3fdeb545",
   "metadata": {},
   "outputs": [
    {
     "data": {
      "text/plain": [
       "20"
      ]
     },
     "execution_count": 22,
     "metadata": {},
     "output_type": "execute_result"
    }
   ],
   "source": [
    "Student1.number"
   ]
  },
  {
   "cell_type": "code",
   "execution_count": 23,
   "id": "0d136e35",
   "metadata": {},
   "outputs": [
    {
     "data": {
      "text/plain": [
       "'Petar'"
      ]
     },
     "execution_count": 23,
     "metadata": {},
     "output_type": "execute_result"
    }
   ],
   "source": [
    "Student1.name"
   ]
  },
  {
   "cell_type": "code",
   "execution_count": 24,
   "id": "0a0652ab",
   "metadata": {},
   "outputs": [
    {
     "data": {
      "text/plain": [
       "92"
      ]
     },
     "execution_count": 24,
     "metadata": {},
     "output_type": "execute_result"
    }
   ],
   "source": [
    "Student1.mark"
   ]
  },
  {
   "cell_type": "code",
   "execution_count": 25,
   "id": "df7f3ae5",
   "metadata": {},
   "outputs": [],
   "source": [
    "Student1.number = 21"
   ]
  },
  {
   "cell_type": "code",
   "execution_count": 26,
   "id": "3d04559e",
   "metadata": {},
   "outputs": [
    {
     "data": {
      "text/plain": [
       "21"
      ]
     },
     "execution_count": 26,
     "metadata": {},
     "output_type": "execute_result"
    }
   ],
   "source": [
    "Student1.number"
   ]
  },
  {
   "cell_type": "code",
   "execution_count": 27,
   "id": "02665a0c",
   "metadata": {},
   "outputs": [
    {
     "name": "stdout",
     "output_type": "stream",
     "text": [
      "Learning\n"
     ]
    }
   ],
   "source": [
    "Student1.learning()"
   ]
  }
 ],
 "metadata": {
  "kernelspec": {
   "display_name": "Python 3 (ipykernel)",
   "language": "python",
   "name": "python3"
  },
  "language_info": {
   "codemirror_mode": {
    "name": "ipython",
    "version": 3
   },
   "file_extension": ".py",
   "mimetype": "text/x-python",
   "name": "python",
   "nbconvert_exporter": "python",
   "pygments_lexer": "ipython3",
   "version": "3.9.13"
  }
 },
 "nbformat": 4,
 "nbformat_minor": 5
}
