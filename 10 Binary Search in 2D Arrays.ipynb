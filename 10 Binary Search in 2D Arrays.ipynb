{
 "cells": [
  {
   "cell_type": "markdown",
   "id": "4d850854",
   "metadata": {},
   "source": [
    "### Search for an element in a 2D sorted (row-wise and column-wise) array."
   ]
  },
  {
   "cell_type": "code",
   "execution_count": null,
   "id": "b0fe320a",
   "metadata": {},
   "outputs": [],
   "source": [
    "matrix = [[10,20,30,40],[15,25,35,45],[28,29,37,49],[33,34,38,50]]"
   ]
  },
  {
   "cell_type": "code",
   "execution_count": 84,
   "id": "5e6ef668",
   "metadata": {},
   "outputs": [
    {
     "data": {
      "text/plain": [
       "[[10, 20, 30, 40], [15, 25, 35, 45], [28, 29, 37, 49], [33, 34, 38, 50]]"
      ]
     },
     "execution_count": 84,
     "metadata": {},
     "output_type": "execute_result"
    }
   ],
   "source": [
    "matrix"
   ]
  },
  {
   "cell_type": "code",
   "execution_count": 98,
   "id": "78c1e4d0",
   "metadata": {},
   "outputs": [],
   "source": [
    "def SearchTwoDArray(matrix, target):\n",
    "    i = 0\n",
    "    j = len(matrix[0]) - 1\n",
    "    \n",
    "    while i <= len(matrix[0])-1 and j>=0:\n",
    "        if matrix[i][j] == target:\n",
    "            return i,j\n",
    "        if matrix[i][j] < target:\n",
    "            i += 1\n",
    "        else:\n",
    "            j -= 1\n",
    "    return [-1,-1]"
   ]
  },
  {
   "cell_type": "code",
   "execution_count": 93,
   "id": "5238d913",
   "metadata": {},
   "outputs": [
    {
     "data": {
      "text/plain": [
       "(3, 2)"
      ]
     },
     "execution_count": 93,
     "metadata": {},
     "output_type": "execute_result"
    }
   ],
   "source": [
    "SearchTwoDArray(matrix, 38)"
   ]
  },
  {
   "cell_type": "code",
   "execution_count": 94,
   "id": "a7ba69ba",
   "metadata": {},
   "outputs": [
    {
     "data": {
      "text/plain": [
       "(3, 3)"
      ]
     },
     "execution_count": 94,
     "metadata": {},
     "output_type": "execute_result"
    }
   ],
   "source": [
    "SearchTwoDArray(matrix, 50)"
   ]
  },
  {
   "cell_type": "code",
   "execution_count": 99,
   "id": "8091ee6e",
   "metadata": {},
   "outputs": [
    {
     "data": {
      "text/plain": [
       "[-1, -1]"
      ]
     },
     "execution_count": 99,
     "metadata": {},
     "output_type": "execute_result"
    }
   ],
   "source": [
    "SearchTwoDArray(matrix, 1)"
   ]
  },
  {
   "cell_type": "markdown",
   "id": "d7da77de",
   "metadata": {},
   "source": [
    "#### Time complexity O(2n) = O(n) instead of two for loops which is O(n^2)"
   ]
  }
 ],
 "metadata": {
  "kernelspec": {
   "display_name": "Python 3 (ipykernel)",
   "language": "python",
   "name": "python3"
  },
  "language_info": {
   "codemirror_mode": {
    "name": "ipython",
    "version": 3
   },
   "file_extension": ".py",
   "mimetype": "text/x-python",
   "name": "python",
   "nbconvert_exporter": "python",
   "pygments_lexer": "ipython3",
   "version": "3.9.13"
  }
 },
 "nbformat": 4,
 "nbformat_minor": 5
}
