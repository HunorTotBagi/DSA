{
 "cells": [
  {
   "cell_type": "markdown",
   "id": "0e7bf1cb",
   "metadata": {},
   "source": [
    "### Search for an element in a 2D sorted (row-wise and column-wise) array."
   ]
  },
  {
   "cell_type": "code",
   "execution_count": null,
   "id": "ffbaac31",
   "metadata": {},
   "outputs": [],
   "source": [
    "matrix = [[10,20,30,40],[15,25,35,45],[28,29,37,49],[33,34,38,50]]"
   ]
  },
  {
   "cell_type": "code",
   "execution_count": 84,
   "id": "a6098cd0",
   "metadata": {},
   "outputs": [
    {
     "data": {
      "text/plain": [
       "[[10, 20, 30, 40], [15, 25, 35, 45], [28, 29, 37, 49], [33, 34, 38, 50]]"
      ]
     },
     "execution_count": 84,
     "metadata": {},
     "output_type": "execute_result"
    }
   ],
   "source": [
    "matrix"
   ]
  },
  {
   "cell_type": "code",
   "execution_count": 92,
   "id": "e5c43887",
   "metadata": {},
   "outputs": [],
   "source": [
    "def SearchTwoDArray(matrix, target):\n",
    "    i = 0\n",
    "    j = len(matrix[0]) - 1\n",
    "    \n",
    "    while i <= len(matrix[0])-1 and j>=0:\n",
    "        if matrix[i][j] == target:\n",
    "            return i,j\n",
    "        if matrix[i][j] < target:\n",
    "            i += 1\n",
    "        else:\n",
    "            j -= 1\n",
    "    return -1"
   ]
  },
  {
   "cell_type": "code",
   "execution_count": 93,
   "id": "a567ab8e",
   "metadata": {},
   "outputs": [
    {
     "data": {
      "text/plain": [
       "(3, 2)"
      ]
     },
     "execution_count": 93,
     "metadata": {},
     "output_type": "execute_result"
    }
   ],
   "source": [
    "SearchTwoDArray(matrix, 38)"
   ]
  },
  {
   "cell_type": "code",
   "execution_count": 94,
   "id": "66df695c",
   "metadata": {},
   "outputs": [
    {
     "data": {
      "text/plain": [
       "(3, 3)"
      ]
     },
     "execution_count": 94,
     "metadata": {},
     "output_type": "execute_result"
    }
   ],
   "source": [
    "SearchTwoDArray(matrix, 50)"
   ]
  },
  {
   "cell_type": "code",
   "execution_count": 95,
   "id": "cbadd314",
   "metadata": {},
   "outputs": [
    {
     "data": {
      "text/plain": [
       "(1, 1)"
      ]
     },
     "execution_count": 95,
     "metadata": {},
     "output_type": "execute_result"
    }
   ],
   "source": [
    "SearchTwoDArray(matrix, 25)"
   ]
  },
  {
   "cell_type": "markdown",
   "id": "190a4840",
   "metadata": {},
   "source": [
    "#### Time complexity O(2n) = O(n) instead of two for loop which is O(n^2)"
   ]
  },
  {
   "cell_type": "code",
   "execution_count": null,
   "id": "3f635c35",
   "metadata": {},
   "outputs": [],
   "source": []
  }
 ],
 "metadata": {
  "kernelspec": {
   "display_name": "Python 3 (ipykernel)",
   "language": "python",
   "name": "python3"
  },
  "language_info": {
   "codemirror_mode": {
    "name": "ipython",
    "version": 3
   },
   "file_extension": ".py",
   "mimetype": "text/x-python",
   "name": "python",
   "nbconvert_exporter": "python",
   "pygments_lexer": "ipython3",
   "version": "3.9.13"
  }
 },
 "nbformat": 4,
 "nbformat_minor": 5
}
