{
 "cells": [
  {
   "cell_type": "code",
   "execution_count": 9,
   "id": "06119f40",
   "metadata": {},
   "outputs": [
    {
     "name": "stdout",
     "output_type": "stream",
     "text": [
      "cba \n",
      "bca \n",
      "bac \n",
      "cab \n",
      "acb \n",
      "abc \n"
     ]
    }
   ],
   "source": [
    "# p stands for processed\n",
    "# up stands for unprocessed\n",
    "\n",
    "def permutations(p, up):\n",
    "    if len(up) == 0:\n",
    "        print(p)\n",
    "        return\n",
    "    \n",
    "    ch = up[0]\n",
    "    \n",
    "    for i in range(len(p)):\n",
    "        f = p[0:i]\n",
    "        s = p[i:len(p)]\n",
    "        permutations(f + ch + s, up[1:])\n",
    "        \n",
    "permutations(\" \",\"abc\")"
   ]
  },
  {
   "cell_type": "code",
   "execution_count": 10,
   "id": "f3c9e4ea",
   "metadata": {},
   "outputs": [
    {
     "name": "stdout",
     "output_type": "stream",
     "text": [
      "4321 \n",
      "3421 \n",
      "3241 \n",
      "3214 \n",
      "4231 \n",
      "2431 \n",
      "2341 \n",
      "2314 \n",
      "4213 \n",
      "2413 \n",
      "2143 \n",
      "2134 \n",
      "4312 \n",
      "3412 \n",
      "3142 \n",
      "3124 \n",
      "4132 \n",
      "1432 \n",
      "1342 \n",
      "1324 \n",
      "4123 \n",
      "1423 \n",
      "1243 \n",
      "1234 \n"
     ]
    }
   ],
   "source": [
    "permutations(\" \",\"1234\")"
   ]
  }
 ],
 "metadata": {
  "kernelspec": {
   "display_name": "Python 3 (ipykernel)",
   "language": "python",
   "name": "python3"
  },
  "language_info": {
   "codemirror_mode": {
    "name": "ipython",
    "version": 3
   },
   "file_extension": ".py",
   "mimetype": "text/x-python",
   "name": "python",
   "nbconvert_exporter": "python",
   "pygments_lexer": "ipython3",
   "version": "3.9.13"
  }
 },
 "nbformat": 4,
 "nbformat_minor": 5
}
