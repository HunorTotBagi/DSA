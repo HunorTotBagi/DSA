{
 "cells": [
  {
   "cell_type": "code",
   "execution_count": 9,
   "id": "ab4d21e8",
   "metadata": {},
   "outputs": [
    {
     "name": "stdout",
     "output_type": "stream",
     "text": [
      "****\n",
      "***\n",
      "**\n",
      "*\n"
     ]
    }
   ],
   "source": [
    "# Pattern 1 \n",
    "# * * * *\n",
    "# * * *\n",
    "# * * \n",
    "# * *\n",
    "# *\n",
    "\n",
    "def pattern1(r):\n",
    "    if r == 0:\n",
    "        return\n",
    "    print(\"*\" * r)\n",
    "    pattern1(r-1)\n",
    "\n",
    "        \n",
    "pattern1(4)"
   ]
  },
  {
   "cell_type": "code",
   "execution_count": null,
   "id": "62304fe4",
   "metadata": {},
   "outputs": [],
   "source": []
  }
 ],
 "metadata": {
  "kernelspec": {
   "display_name": "Python 3 (ipykernel)",
   "language": "python",
   "name": "python3"
  },
  "language_info": {
   "codemirror_mode": {
    "name": "ipython",
    "version": 3
   },
   "file_extension": ".py",
   "mimetype": "text/x-python",
   "name": "python",
   "nbconvert_exporter": "python",
   "pygments_lexer": "ipython3",
   "version": "3.9.13"
  }
 },
 "nbformat": 4,
 "nbformat_minor": 5
}
