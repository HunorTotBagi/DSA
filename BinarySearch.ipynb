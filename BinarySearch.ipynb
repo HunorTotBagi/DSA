{
 "cells": [
  {
   "cell_type": "code",
   "execution_count": 170,
   "id": "37a2f937",
   "metadata": {},
   "outputs": [],
   "source": [
    "#This will work only if the arrays is sorted. \n",
    "#Meaning the aray is in ascending order."
   ]
  },
  {
   "cell_type": "code",
   "execution_count": 171,
   "id": "715f3386",
   "metadata": {},
   "outputs": [],
   "source": [
    "#Input values the given array, and the target that we are searching for\n",
    "def BinarySearch(arr, target):\n",
    "    start = 0 # Starting inted\n",
    "    end = len(arr)-1 # -1 because we need number of indexes\n",
    "    finder = int((start + end) / 2) # int to round the number\n",
    "    if arr[finder] == target:\n",
    "        return finder\n",
    "    else:\n",
    "        while arr[finder] != target: \n",
    "            finder = int((start + end) / 2)\n",
    "            if arr[finder] == target:\n",
    "                return finder\n",
    "                break\n",
    "            if target < arr[finder]:\n",
    "                end = finder\n",
    "            else:\n",
    "                start = finder\n",
    "            if abs(end-start)==1:\n",
    "                print(\"The element is not in the list\")\n",
    "                break"
   ]
  },
  {
   "cell_type": "markdown",
   "id": "087090ea",
   "metadata": {},
   "source": [
    "## Test Case 1 - Target is right to the middle element"
   ]
  },
  {
   "cell_type": "code",
   "execution_count": 172,
   "id": "69dca225",
   "metadata": {},
   "outputs": [],
   "source": [
    "arr1 = [2,4,6,9,11,12,14,20,36,48]\n",
    "target1 = 36"
   ]
  },
  {
   "cell_type": "code",
   "execution_count": 173,
   "id": "086b8bed",
   "metadata": {},
   "outputs": [
    {
     "data": {
      "text/plain": [
       "8"
      ]
     },
     "execution_count": 173,
     "metadata": {},
     "output_type": "execute_result"
    }
   ],
   "source": [
    "BinarySearch(arr1, target1)"
   ]
  },
  {
   "cell_type": "code",
   "execution_count": 174,
   "id": "8bdbc732",
   "metadata": {},
   "outputs": [
    {
     "data": {
      "text/plain": [
       "36"
      ]
     },
     "execution_count": 174,
     "metadata": {},
     "output_type": "execute_result"
    }
   ],
   "source": [
    "arr1[8]"
   ]
  },
  {
   "cell_type": "markdown",
   "id": "af3dd3c1",
   "metadata": {},
   "source": [
    "## Test Case 2 - Target is left to the middle element"
   ]
  },
  {
   "cell_type": "code",
   "execution_count": 175,
   "id": "3b885fc6",
   "metadata": {},
   "outputs": [],
   "source": [
    "arr2 = [1,6,7,99,101,123,124,199,258,666,699,10555,201111]\n",
    "target2 = 7"
   ]
  },
  {
   "cell_type": "code",
   "execution_count": 176,
   "id": "80f9b360",
   "metadata": {},
   "outputs": [
    {
     "data": {
      "text/plain": [
       "2"
      ]
     },
     "execution_count": 176,
     "metadata": {},
     "output_type": "execute_result"
    }
   ],
   "source": [
    "BinarySearch(arr2, target2)"
   ]
  },
  {
   "cell_type": "code",
   "execution_count": 177,
   "id": "49ebbcec",
   "metadata": {},
   "outputs": [
    {
     "data": {
      "text/plain": [
       "7"
      ]
     },
     "execution_count": 177,
     "metadata": {},
     "output_type": "execute_result"
    }
   ],
   "source": [
    "arr2[2]"
   ]
  },
  {
   "cell_type": "markdown",
   "id": "fe4b0d9b",
   "metadata": {},
   "source": [
    "# Test Case 3 - Target is in the middle element"
   ]
  },
  {
   "cell_type": "code",
   "execution_count": 178,
   "id": "74f52300",
   "metadata": {},
   "outputs": [],
   "source": [
    "arr3 = [1,11,25,75,88,247,666]\n",
    "target3 = 75"
   ]
  },
  {
   "cell_type": "code",
   "execution_count": 179,
   "id": "6e592427",
   "metadata": {},
   "outputs": [
    {
     "data": {
      "text/plain": [
       "3"
      ]
     },
     "execution_count": 179,
     "metadata": {},
     "output_type": "execute_result"
    }
   ],
   "source": [
    "BinarySearch(arr3, target3)"
   ]
  },
  {
   "cell_type": "code",
   "execution_count": 180,
   "id": "90d76933",
   "metadata": {},
   "outputs": [
    {
     "data": {
      "text/plain": [
       "75"
      ]
     },
     "execution_count": 180,
     "metadata": {},
     "output_type": "execute_result"
    }
   ],
   "source": [
    "arr3[3]"
   ]
  },
  {
   "cell_type": "markdown",
   "id": "25ca2466",
   "metadata": {},
   "source": [
    "## Test Case 4 - Target is not in the array"
   ]
  },
  {
   "cell_type": "code",
   "execution_count": 181,
   "id": "588fa211",
   "metadata": {},
   "outputs": [],
   "source": [
    "arr4 = [1,11,25,75,88,247,666,999]\n",
    "target4 = 777"
   ]
  },
  {
   "cell_type": "code",
   "execution_count": 182,
   "id": "eb038326",
   "metadata": {},
   "outputs": [
    {
     "name": "stdout",
     "output_type": "stream",
     "text": [
      "The element is not in the list\n"
     ]
    }
   ],
   "source": [
    "BinarySearch(arr4, target4)"
   ]
  }
 ],
 "metadata": {
  "kernelspec": {
   "display_name": "Python 3 (ipykernel)",
   "language": "python",
   "name": "python3"
  },
  "language_info": {
   "codemirror_mode": {
    "name": "ipython",
    "version": 3
   },
   "file_extension": ".py",
   "mimetype": "text/x-python",
   "name": "python",
   "nbconvert_exporter": "python",
   "pygments_lexer": "ipython3",
   "version": "3.9.13"
  }
 },
 "nbformat": 4,
 "nbformat_minor": 5
}
