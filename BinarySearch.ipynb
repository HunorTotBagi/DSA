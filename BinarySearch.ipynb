{
 "cells": [
  {
   "cell_type": "code",
   "execution_count": 222,
   "id": "9fc1d61c",
   "metadata": {},
   "outputs": [],
   "source": [
    "#This will work only if the arrays is sorted. \n",
    "#Meaning the aray is in ascending order."
   ]
  },
  {
   "cell_type": "markdown",
   "id": "7e90ed4c",
   "metadata": {},
   "source": [
    "# First approach"
   ]
  },
  {
   "cell_type": "code",
   "execution_count": 223,
   "id": "ca550e1b",
   "metadata": {},
   "outputs": [],
   "source": [
    "#Input values the given array, and the target that we are searching for\n",
    "def BinarySearch(arr, target):\n",
    "    start = 0 # Starting inted\n",
    "    end = len(arr)-1 # -1 because we need number of indexes\n",
    "    finder = int((start + end) / 2) # int to round the number\n",
    "    if arr[finder] == target:\n",
    "        return finder\n",
    "    else:\n",
    "        while arr[finder] != target: \n",
    "            finder = int((start + end) / 2)\n",
    "            if arr[finder] == target:\n",
    "                return finder\n",
    "                break\n",
    "            if target < arr[finder]:\n",
    "                end = finder\n",
    "            else:\n",
    "                start = finder\n",
    "            if abs(end-start)==1:\n",
    "                print(\"The target %d is not in the list.\" %(target))\n",
    "                break"
   ]
  },
  {
   "cell_type": "markdown",
   "id": "19f03773",
   "metadata": {},
   "source": [
    "# Second approach"
   ]
  },
  {
   "cell_type": "code",
   "execution_count": 224,
   "id": "fc958731",
   "metadata": {},
   "outputs": [],
   "source": [
    "def BinarySearch1(arr, target):\n",
    "    start = 0\n",
    "    end = len(arr) - 1\n",
    "    while (start <= end):\n",
    "        mid = int(start + (end - start) / 2)\n",
    "        if target < arr[mid]:\n",
    "            end = mid - 1\n",
    "        elif target > arr[mid]:\n",
    "            start = mid + 1\n",
    "        else:\n",
    "            return mid\n",
    "    print(\"The target %d is not in the list.\" %(target))"
   ]
  },
  {
   "cell_type": "markdown",
   "id": "8b8e0474",
   "metadata": {},
   "source": [
    "## Test Case 1 - Target is right to the middle element"
   ]
  },
  {
   "cell_type": "code",
   "execution_count": 225,
   "id": "d78a1a92",
   "metadata": {},
   "outputs": [],
   "source": [
    "arr1 = [2,4,6,9,11,12,14,20,36,48]\n",
    "target1 = 36"
   ]
  },
  {
   "cell_type": "code",
   "execution_count": 226,
   "id": "8c38e5b6",
   "metadata": {},
   "outputs": [
    {
     "data": {
      "text/plain": [
       "(8, 8)"
      ]
     },
     "execution_count": 226,
     "metadata": {},
     "output_type": "execute_result"
    }
   ],
   "source": [
    "BinarySearch(arr1, target1), BinarySearch1(arr1, target1)"
   ]
  },
  {
   "cell_type": "code",
   "execution_count": 227,
   "id": "266fde6d",
   "metadata": {},
   "outputs": [
    {
     "data": {
      "text/plain": [
       "36"
      ]
     },
     "execution_count": 227,
     "metadata": {},
     "output_type": "execute_result"
    }
   ],
   "source": [
    "arr1[8]"
   ]
  },
  {
   "cell_type": "markdown",
   "id": "31a7441a",
   "metadata": {},
   "source": [
    "## Test Case 2 - Target is left to the middle element"
   ]
  },
  {
   "cell_type": "code",
   "execution_count": 228,
   "id": "f94dcf91",
   "metadata": {},
   "outputs": [],
   "source": [
    "arr2 = [1,6,7,99,101,123,124,199,258,666,699,10555,201111]\n",
    "target2 = 7"
   ]
  },
  {
   "cell_type": "code",
   "execution_count": 229,
   "id": "16157e7f",
   "metadata": {},
   "outputs": [
    {
     "data": {
      "text/plain": [
       "(2, 2)"
      ]
     },
     "execution_count": 229,
     "metadata": {},
     "output_type": "execute_result"
    }
   ],
   "source": [
    "BinarySearch(arr2, target2), BinarySearch1(arr2, target2)"
   ]
  },
  {
   "cell_type": "code",
   "execution_count": 230,
   "id": "b1211fbd",
   "metadata": {},
   "outputs": [
    {
     "data": {
      "text/plain": [
       "7"
      ]
     },
     "execution_count": 230,
     "metadata": {},
     "output_type": "execute_result"
    }
   ],
   "source": [
    "arr2[2]"
   ]
  },
  {
   "cell_type": "markdown",
   "id": "d514beee",
   "metadata": {},
   "source": [
    "# Test Case 3 - Target is in the middle"
   ]
  },
  {
   "cell_type": "code",
   "execution_count": 231,
   "id": "1eedc202",
   "metadata": {},
   "outputs": [],
   "source": [
    "# This is the best case scenario. With time complexity O(1)\n",
    "# The worst case scenario is O(log n). Where n is the length of the array.\n",
    "arr3 = [1,11,25,75,88,247,666]\n",
    "target3 = 75"
   ]
  },
  {
   "cell_type": "code",
   "execution_count": 232,
   "id": "e63ec03e",
   "metadata": {},
   "outputs": [
    {
     "data": {
      "text/plain": [
       "(3, 3)"
      ]
     },
     "execution_count": 232,
     "metadata": {},
     "output_type": "execute_result"
    }
   ],
   "source": [
    "BinarySearch(arr3, target3), BinarySearch1(arr3, target3)"
   ]
  },
  {
   "cell_type": "code",
   "execution_count": 233,
   "id": "84ec8580",
   "metadata": {},
   "outputs": [
    {
     "data": {
      "text/plain": [
       "75"
      ]
     },
     "execution_count": 233,
     "metadata": {},
     "output_type": "execute_result"
    }
   ],
   "source": [
    "arr3[3]"
   ]
  },
  {
   "cell_type": "markdown",
   "id": "09ee3681",
   "metadata": {},
   "source": [
    "## Test Case 4 - Target is not in the array"
   ]
  },
  {
   "cell_type": "code",
   "execution_count": 234,
   "id": "8f8f7d5a",
   "metadata": {},
   "outputs": [],
   "source": [
    "arr4 = [1,11,25,75,88,247,666,999]\n",
    "target4 = 777"
   ]
  },
  {
   "cell_type": "code",
   "execution_count": 235,
   "id": "9a88793c",
   "metadata": {},
   "outputs": [
    {
     "name": "stdout",
     "output_type": "stream",
     "text": [
      "The target 777 is not in the list.\n"
     ]
    }
   ],
   "source": [
    "BinarySearch(arr4, target4)"
   ]
  },
  {
   "cell_type": "code",
   "execution_count": 236,
   "id": "3edae542",
   "metadata": {},
   "outputs": [
    {
     "name": "stdout",
     "output_type": "stream",
     "text": [
      "The target 777 is not in the list.\n"
     ]
    }
   ],
   "source": [
    "BinarySearch1(arr4, target4)"
   ]
  }
 ],
 "metadata": {
  "kernelspec": {
   "display_name": "Python 3 (ipykernel)",
   "language": "python",
   "name": "python3"
  },
  "language_info": {
   "codemirror_mode": {
    "name": "ipython",
    "version": 3
   },
   "file_extension": ".py",
   "mimetype": "text/x-python",
   "name": "python",
   "nbconvert_exporter": "python",
   "pygments_lexer": "ipython3",
   "version": "3.9.13"
  }
 },
 "nbformat": 4,
 "nbformat_minor": 5
}
