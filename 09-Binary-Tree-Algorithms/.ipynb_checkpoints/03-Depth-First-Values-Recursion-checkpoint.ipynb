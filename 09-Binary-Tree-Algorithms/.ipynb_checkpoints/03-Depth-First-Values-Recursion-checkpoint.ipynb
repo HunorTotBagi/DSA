{
 "cells": [
  {
   "cell_type": "code",
   "execution_count": 13,
   "id": "9e2e4859",
   "metadata": {},
   "outputs": [
    {
     "data": {
      "text/plain": [
       "['a', 'b', 'd', 'e', 'c', 'f']"
      ]
     },
     "execution_count": 13,
     "metadata": {},
     "output_type": "execute_result"
    }
   ],
   "source": [
    "class Node:\n",
    "    def __init__(self, val, left, right):\n",
    "        self.val = val\n",
    "        self.left = None\n",
    "        self.right = None\n",
    "        \n",
    "def depthFirstValues(root):\n",
    "    result = []\n",
    "    if root == None:\n",
    "        return result\n",
    "    result.append(root.val)\n",
    "    result.extend(depthFirstValues(root.left)) \n",
    "    result.extend(depthFirstValues(root.right))\n",
    "    return result\n",
    "        \n",
    "a = Node('a', None, None)\n",
    "b = Node('b', None, None)\n",
    "c = Node('c', None, None)\n",
    "d = Node('d', None, None)\n",
    "e = Node('e', None, None)\n",
    "f = Node('f', None, None)\n",
    "\n",
    "a.left = b\n",
    "a.right = c\n",
    "b.left = d\n",
    "b.right = e\n",
    "c.right = f\n",
    "\n",
    "# Visual representation\n",
    "#       a\n",
    "#      /\\\n",
    "#     b  c\n",
    "#    /\\   \\\n",
    "#   d  e   f\n",
    "\n",
    "depthFirstValues(a)"
   ]
  }
 ],
 "metadata": {
  "kernelspec": {
   "display_name": "Python 3 (ipykernel)",
   "language": "python",
   "name": "python3"
  },
  "language_info": {
   "codemirror_mode": {
    "name": "ipython",
    "version": 3
   },
   "file_extension": ".py",
   "mimetype": "text/x-python",
   "name": "python",
   "nbconvert_exporter": "python",
   "pygments_lexer": "ipython3",
   "version": "3.9.13"
  }
 },
 "nbformat": 4,
 "nbformat_minor": 5
}
