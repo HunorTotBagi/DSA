{
 "cells": [
  {
   "cell_type": "code",
   "execution_count": 67,
   "id": "7ecf3760",
   "metadata": {},
   "outputs": [],
   "source": [
    "class Node:\n",
    "    # Makes it easier to create new nodes by automatically setting the left and right parameters to None\n",
    "    def __init__(self, val, left = None, right = None):\n",
    "        self.val = val\n",
    "        self.left = left\n",
    "        self.right = right\n",
    "        \n",
    "a = Node('a')\n",
    "b = Node('b')\n",
    "c = Node('c')\n",
    "d = Node('d')\n",
    "e = Node('e')\n",
    "f = Node('f')\n",
    "\n",
    "a.left = b\n",
    "a.right = c\n",
    "b.left = d\n",
    "b.right = e\n",
    "c.right = f\n",
    "\n",
    "# Visual representation\n",
    "#       a\n",
    "#      /\\\n",
    "#     b  c\n",
    "#    /\\   \\\n",
    "#   d  e   f\n",
    "\n",
    "def BFS(root, target):\n",
    "    if root == None:\n",
    "        return False\n",
    "    result = []\n",
    "    que = []\n",
    "    que.append(root)\n",
    "    while len(que) > 0:\n",
    "        current = que.pop(0)\n",
    "        if current.val == target:\n",
    "            return True\n",
    "            break\n",
    "        result.append(current.val)\n",
    "        if current.left != None:\n",
    "            que.append(current.left)\n",
    "        if current.right != None:\n",
    "            que.append(current.right)\n",
    "    return False"
   ]
  },
  {
   "cell_type": "code",
   "execution_count": 69,
   "id": "0c283b2f",
   "metadata": {},
   "outputs": [
    {
     "data": {
      "text/plain": [
       "True"
      ]
     },
     "execution_count": 69,
     "metadata": {},
     "output_type": "execute_result"
    }
   ],
   "source": [
    "BFS(a, 'e')"
   ]
  },
  {
   "cell_type": "code",
   "execution_count": 70,
   "id": "753b3c81",
   "metadata": {},
   "outputs": [
    {
     "data": {
      "text/plain": [
       "True"
      ]
     },
     "execution_count": 70,
     "metadata": {},
     "output_type": "execute_result"
    }
   ],
   "source": [
    "BFS(a, 'c')"
   ]
  },
  {
   "cell_type": "code",
   "execution_count": 71,
   "id": "f8cf93d3",
   "metadata": {},
   "outputs": [
    {
     "data": {
      "text/plain": [
       "False"
      ]
     },
     "execution_count": 71,
     "metadata": {},
     "output_type": "execute_result"
    }
   ],
   "source": [
    "BFS(a, 't')"
   ]
  },
  {
   "cell_type": "code",
   "execution_count": 72,
   "id": "d8dd73db",
   "metadata": {},
   "outputs": [
    {
     "data": {
      "text/plain": [
       "False"
      ]
     },
     "execution_count": 72,
     "metadata": {},
     "output_type": "execute_result"
    }
   ],
   "source": [
    "BFS(None, 'b')"
   ]
  }
 ],
 "metadata": {
  "kernelspec": {
   "display_name": "Python 3 (ipykernel)",
   "language": "python",
   "name": "python3"
  },
  "language_info": {
   "codemirror_mode": {
    "name": "ipython",
    "version": 3
   },
   "file_extension": ".py",
   "mimetype": "text/x-python",
   "name": "python",
   "nbconvert_exporter": "python",
   "pygments_lexer": "ipython3",
   "version": "3.9.13"
  }
 },
 "nbformat": 4,
 "nbformat_minor": 5
}
