{
 "cells": [
  {
   "cell_type": "code",
   "execution_count": null,
   "id": "c62d6b21",
   "metadata": {},
   "outputs": [],
   "source": [
    "class Node:\n",
    "    def __init__(self, val, left, right):\n",
    "        self.val = val\n",
    "        self.left = None\n",
    "        self.right = None\n",
    "\n",
    "def breadthFirstValues(root):\n",
    "    result = []\n",
    "    queue = []\n",
    "    queue.append(root)\n",
    "    while len(queue) > 0:\n",
    "        current = queue[0]\n",
    "        result.append(current.val)\n",
    "        if current.left != None:\n",
    "            queue.append(current.left)\n",
    "        if current.right != None:\n",
    "            queue.append(current.right)\n",
    "        queue.pop(0)\n",
    "    return result\n",
    "            \n",
    "a = Node('a', None, None)\n",
    "b = Node('b', None, None)\n",
    "c = Node('c', None, None)\n",
    "d = Node('d', None, None)\n",
    "e = Node('e', None, None)\n",
    "f = Node('f', None, None)\n",
    "\n",
    "a.left = b\n",
    "a.right = c\n",
    "b.left = d\n",
    "b.right = e\n",
    "c.right = f\n",
    "\n",
    "# Visual representation\n",
    "#       a\n",
    "#      /\\\n",
    "#     b  c\n",
    "#    /\\   \\\n",
    "#   d  e   f\n",
    "\n",
    "breadthFirstValues(a)"
   ]
  }
 ],
 "metadata": {
  "kernelspec": {
   "display_name": "Python 3 (ipykernel)",
   "language": "python",
   "name": "python3"
  },
  "language_info": {
   "codemirror_mode": {
    "name": "ipython",
    "version": 3
   },
   "file_extension": ".py",
   "mimetype": "text/x-python",
   "name": "python",
   "nbconvert_exporter": "python",
   "pygments_lexer": "ipython3",
   "version": "3.9.13"
  }
 },
 "nbformat": 4,
 "nbformat_minor": 5
}
