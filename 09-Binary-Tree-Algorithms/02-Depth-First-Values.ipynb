{
 "cells": [
  {
   "cell_type": "code",
   "execution_count": 35,
   "id": "79d3d0fc",
   "metadata": {},
   "outputs": [
    {
     "name": "stdout",
     "output_type": "stream",
     "text": [
      "a\n",
      "b\n",
      "d\n",
      "e\n",
      "c\n",
      "f\n"
     ]
    }
   ],
   "source": [
    "class Node:\n",
    "    def __init__(self, val, left, right):\n",
    "        self.val = val\n",
    "        self.left = None\n",
    "        self.right = None\n",
    "        \n",
    "def depthFirstValues(root):\n",
    "    stack = []\n",
    "    stack.append(root)\n",
    "    while len(stack) > 0:\n",
    "        current = stack.pop()\n",
    "        print(current.val)\n",
    "        \n",
    "        if current.right != None:\n",
    "            stack.append(current.right)\n",
    "        \n",
    "        if current.left != None:\n",
    "            stack.append(current.left)\n",
    "            \n",
    "a = Node('a', None, None)\n",
    "b = Node('b', None, None)\n",
    "c = Node('c', None, None)\n",
    "d = Node('d', None, None)\n",
    "e = Node('e', None, None)\n",
    "f = Node('f', None, None)\n",
    "\n",
    "a.left = b\n",
    "a.right = c\n",
    "b.left = d\n",
    "b.right = e\n",
    "c.right = f\n",
    "\n",
    "# Visual representation\n",
    "#       a\n",
    "#      /\\\n",
    "#     b  c\n",
    "#    /\\   \\\n",
    "#   d  e   f\n",
    "\n",
    "depthFirstValues(a)"
   ]
  },
  {
   "cell_type": "code",
   "execution_count": null,
   "id": "50ed0599",
   "metadata": {},
   "outputs": [],
   "source": []
  }
 ],
 "metadata": {
  "kernelspec": {
   "display_name": "Python 3 (ipykernel)",
   "language": "python",
   "name": "python3"
  },
  "language_info": {
   "codemirror_mode": {
    "name": "ipython",
    "version": 3
   },
   "file_extension": ".py",
   "mimetype": "text/x-python",
   "name": "python",
   "nbconvert_exporter": "python",
   "pygments_lexer": "ipython3",
   "version": "3.9.13"
  }
 },
 "nbformat": 4,
 "nbformat_minor": 5
}
