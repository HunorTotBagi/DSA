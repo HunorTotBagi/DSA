{
 "cells": [
  {
   "cell_type": "markdown",
   "id": "8533a89b",
   "metadata": {},
   "source": [
    "# Question: Find a ceiling of a target number. Ceiling = smallest number in this array that is greater than or equal to the target number."
   ]
  },
  {
   "cell_type": "code",
   "execution_count": 3,
   "id": "7910eba5",
   "metadata": {},
   "outputs": [],
   "source": [
    "# Without any hesitation, when we saw (or get) a sorted \n",
    "# array apply Binary Search"
   ]
  },
  {
   "cell_type": "code",
   "execution_count": 39,
   "id": "86d74d54",
   "metadata": {},
   "outputs": [],
   "source": [
    "def asc_or_desc(arr):\n",
    "    return arr[0]<arr[-1]"
   ]
  },
  {
   "cell_type": "code",
   "execution_count": 52,
   "id": "f23f60b8",
   "metadata": {},
   "outputs": [],
   "source": [
    "def Binary_Search_Ceiling(arr, target):\n",
    "    start = 0\n",
    "    end = len(arr) - 1\n",
    "    while (start <= end):\n",
    "        mid = int(start + (end - start) / 2) # This way int can't \"explode\"\n",
    "        \n",
    "        if arr[mid] == target:\n",
    "            return mid\n",
    "        \n",
    "        if asc_or_desc(arr): # Ascending case.\n",
    "            if target < arr[mid]:\n",
    "                end = mid - 1\n",
    "            elif target > arr[mid]:\n",
    "                start = mid + 1\n",
    "        else: # Descending case.\n",
    "            if target > arr[mid]:\n",
    "                end = mid - 1\n",
    "            elif target < arr[mid]:\n",
    "                start = mid + 1\n",
    "            \n",
    "    return start # The only change from classical Binary Search\n",
    "    # Because the while loop breaks on this condition\n",
    "    # The next biggest element will be exactyle the \"start\" index"
   ]
  },
  {
   "cell_type": "markdown",
   "id": "892ee860",
   "metadata": {},
   "source": [
    "### Test Case 1 - Target is not in the list"
   ]
  },
  {
   "cell_type": "code",
   "execution_count": 49,
   "id": "f8444fa5",
   "metadata": {},
   "outputs": [
    {
     "data": {
      "text/plain": [
       "16"
      ]
     },
     "execution_count": 49,
     "metadata": {},
     "output_type": "execute_result"
    }
   ],
   "source": [
    "arr1 = [2,3,5,9,14,16,18]\n",
    "target1 = 15\n",
    "Binary_Search_Ceiling(arr1, target1)"
   ]
  },
  {
   "cell_type": "markdown",
   "id": "9e31c7f8",
   "metadata": {},
   "source": [
    "### Test Case 1 - Target is in the list"
   ]
  },
  {
   "cell_type": "code",
   "execution_count": 50,
   "id": "05b6ee2a",
   "metadata": {},
   "outputs": [
    {
     "data": {
      "text/plain": [
       "16"
      ]
     },
     "execution_count": 50,
     "metadata": {},
     "output_type": "execute_result"
    }
   ],
   "source": [
    "arr1 = [2,3,5,9,14,16,18]\n",
    "target1 = 16\n",
    "Binary_Search_Ceiling(arr1, target1)"
   ]
  }
 ],
 "metadata": {
  "kernelspec": {
   "display_name": "Python 3 (ipykernel)",
   "language": "python",
   "name": "python3"
  },
  "language_info": {
   "codemirror_mode": {
    "name": "ipython",
    "version": 3
   },
   "file_extension": ".py",
   "mimetype": "text/x-python",
   "name": "python",
   "nbconvert_exporter": "python",
   "pygments_lexer": "ipython3",
   "version": "3.9.13"
  }
 },
 "nbformat": 4,
 "nbformat_minor": 5
}
