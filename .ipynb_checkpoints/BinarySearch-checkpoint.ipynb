{
 "cells": [
  {
   "cell_type": "code",
   "execution_count": 191,
   "id": "59574b5d",
   "metadata": {},
   "outputs": [],
   "source": [
    "#This will work only if the arrays is sorted. \n",
    "#Meaning the aray is in ascending order."
   ]
  },
  {
   "cell_type": "code",
   "execution_count": 192,
   "id": "85b83dc8",
   "metadata": {},
   "outputs": [],
   "source": [
    "#Input values the given array, and the target that we are searching for\n",
    "def BinarySearch(arr, target):\n",
    "    start = 0 # Starting inted\n",
    "    end = len(arr)-1 # -1 because we need number of indexes\n",
    "    finder = int((start + end) / 2) # int to round the number\n",
    "    if arr[finder] == target:\n",
    "        return finder\n",
    "    else:\n",
    "        while arr[finder] != target: \n",
    "            finder = int((start + end) / 2)\n",
    "            if arr[finder] == target:\n",
    "                return finder\n",
    "                break\n",
    "            if target < arr[finder]:\n",
    "                end = finder\n",
    "            else:\n",
    "                start = finder\n",
    "            if abs(end-start)==1:\n",
    "                print(\"The target %d is not in the list.\" %(target))\n",
    "                break"
   ]
  },
  {
   "cell_type": "markdown",
   "id": "4a3b2be2",
   "metadata": {},
   "source": [
    "## Test Case 1 - Target is right to the middle element"
   ]
  },
  {
   "cell_type": "code",
   "execution_count": 193,
   "id": "9701a02c",
   "metadata": {},
   "outputs": [],
   "source": [
    "arr1 = [2,4,6,9,11,12,14,20,36,48]\n",
    "target1 = 36"
   ]
  },
  {
   "cell_type": "code",
   "execution_count": 194,
   "id": "272baf3a",
   "metadata": {},
   "outputs": [
    {
     "data": {
      "text/plain": [
       "8"
      ]
     },
     "execution_count": 194,
     "metadata": {},
     "output_type": "execute_result"
    }
   ],
   "source": [
    "BinarySearch(arr1, target1)"
   ]
  },
  {
   "cell_type": "code",
   "execution_count": 195,
   "id": "82da13f5",
   "metadata": {},
   "outputs": [
    {
     "data": {
      "text/plain": [
       "36"
      ]
     },
     "execution_count": 195,
     "metadata": {},
     "output_type": "execute_result"
    }
   ],
   "source": [
    "arr1[8]"
   ]
  },
  {
   "cell_type": "markdown",
   "id": "1a9fb25c",
   "metadata": {},
   "source": [
    "## Test Case 2 - Target is left to the middle element"
   ]
  },
  {
   "cell_type": "code",
   "execution_count": 196,
   "id": "72fc0f1f",
   "metadata": {},
   "outputs": [],
   "source": [
    "arr2 = [1,6,7,99,101,123,124,199,258,666,699,10555,201111]\n",
    "target2 = 7"
   ]
  },
  {
   "cell_type": "code",
   "execution_count": 197,
   "id": "387bcd9e",
   "metadata": {},
   "outputs": [
    {
     "data": {
      "text/plain": [
       "2"
      ]
     },
     "execution_count": 197,
     "metadata": {},
     "output_type": "execute_result"
    }
   ],
   "source": [
    "BinarySearch(arr2, target2)"
   ]
  },
  {
   "cell_type": "code",
   "execution_count": 198,
   "id": "c0d8f061",
   "metadata": {},
   "outputs": [
    {
     "data": {
      "text/plain": [
       "7"
      ]
     },
     "execution_count": 198,
     "metadata": {},
     "output_type": "execute_result"
    }
   ],
   "source": [
    "arr2[2]"
   ]
  },
  {
   "cell_type": "markdown",
   "id": "0f6964b4",
   "metadata": {},
   "source": [
    "# Test Case 3 - Target is in the middle"
   ]
  },
  {
   "cell_type": "code",
   "execution_count": 199,
   "id": "5d22ba93",
   "metadata": {},
   "outputs": [],
   "source": [
    "# This is the best case scenario. With time complexity O(1)\n",
    "# The worst case scenario is O(log n). Where n is the length of the array.\n",
    "arr3 = [1,11,25,75,88,247,666]\n",
    "target3 = 75"
   ]
  },
  {
   "cell_type": "code",
   "execution_count": 200,
   "id": "5ca002e1",
   "metadata": {},
   "outputs": [
    {
     "data": {
      "text/plain": [
       "3"
      ]
     },
     "execution_count": 200,
     "metadata": {},
     "output_type": "execute_result"
    }
   ],
   "source": [
    "BinarySearch(arr3, target3)"
   ]
  },
  {
   "cell_type": "code",
   "execution_count": 201,
   "id": "1abff3a8",
   "metadata": {},
   "outputs": [
    {
     "data": {
      "text/plain": [
       "75"
      ]
     },
     "execution_count": 201,
     "metadata": {},
     "output_type": "execute_result"
    }
   ],
   "source": [
    "arr3[3]"
   ]
  },
  {
   "cell_type": "markdown",
   "id": "bbeb229c",
   "metadata": {},
   "source": [
    "## Test Case 4 - Target is not in the array"
   ]
  },
  {
   "cell_type": "code",
   "execution_count": 202,
   "id": "74d77383",
   "metadata": {},
   "outputs": [],
   "source": [
    "arr4 = [1,11,25,75,88,247,666,999]\n",
    "target4 = 777"
   ]
  },
  {
   "cell_type": "code",
   "execution_count": 203,
   "id": "f648d8ee",
   "metadata": {},
   "outputs": [
    {
     "name": "stdout",
     "output_type": "stream",
     "text": [
      "The target 777 is not in the list.\n"
     ]
    }
   ],
   "source": [
    "BinarySearch(arr4, target4)"
   ]
  }
 ],
 "metadata": {
  "kernelspec": {
   "display_name": "Python 3 (ipykernel)",
   "language": "python",
   "name": "python3"
  },
  "language_info": {
   "codemirror_mode": {
    "name": "ipython",
    "version": 3
   },
   "file_extension": ".py",
   "mimetype": "text/x-python",
   "name": "python",
   "nbconvert_exporter": "python",
   "pygments_lexer": "ipython3",
   "version": "3.9.13"
  }
 },
 "nbformat": 4,
 "nbformat_minor": 5
}
