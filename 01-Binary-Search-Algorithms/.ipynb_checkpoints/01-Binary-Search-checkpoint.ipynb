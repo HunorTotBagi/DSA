{
 "cells": [
  {
   "cell_type": "code",
   "execution_count": 1,
   "id": "a1bef7f5",
   "metadata": {},
   "outputs": [],
   "source": [
    "def BinarySearch(arr, target):\n",
    "    start = 0\n",
    "    end = len(arr) - 1\n",
    "    while start <= end:\n",
    "        mid = int(start + (end - start) / 2) # This way int can't \"explode\", same as (start + end) / 2\n",
    "        if target < arr[mid]:\n",
    "            end = mid - 1\n",
    "        elif target > arr[mid]:\n",
    "            start = mid + 1\n",
    "        else:\n",
    "            return mid\n",
    "    return -1 # Return -1 if the target is not in the list"
   ]
  },
  {
   "cell_type": "markdown",
   "id": "6a8cdabe",
   "metadata": {},
   "source": [
    "Target is right to the middle element"
   ]
  },
  {
   "cell_type": "code",
   "execution_count": 2,
   "id": "368f2d9a",
   "metadata": {},
   "outputs": [
    {
     "data": {
      "text/plain": [
       "8"
      ]
     },
     "execution_count": 2,
     "metadata": {},
     "output_type": "execute_result"
    }
   ],
   "source": [
    "arr1 = [2,4,6,9,11,12,14,20,36,48]\n",
    "BinarySearch(arr1, 36)"
   ]
  },
  {
   "cell_type": "markdown",
   "id": "58ae7dcd",
   "metadata": {},
   "source": [
    "Target is left to the middle element"
   ]
  },
  {
   "cell_type": "code",
   "execution_count": 3,
   "id": "9435a375",
   "metadata": {},
   "outputs": [
    {
     "data": {
      "text/plain": [
       "2"
      ]
     },
     "execution_count": 3,
     "metadata": {},
     "output_type": "execute_result"
    }
   ],
   "source": [
    "arr2 = [1,6,7,99,101,123,124,199,258,666,699,10555,201111]\n",
    "BinarySearch(arr2, 7)"
   ]
  },
  {
   "cell_type": "code",
   "execution_count": 4,
   "id": "a1e14530",
   "metadata": {},
   "outputs": [
    {
     "data": {
      "text/plain": [
       "7"
      ]
     },
     "execution_count": 4,
     "metadata": {},
     "output_type": "execute_result"
    }
   ],
   "source": [
    "arr2[2]"
   ]
  },
  {
   "cell_type": "markdown",
   "id": "2a322636",
   "metadata": {},
   "source": [
    "Target is the middle element"
   ]
  },
  {
   "cell_type": "code",
   "execution_count": 5,
   "id": "e8ae3f04",
   "metadata": {},
   "outputs": [
    {
     "data": {
      "text/plain": [
       "3"
      ]
     },
     "execution_count": 5,
     "metadata": {},
     "output_type": "execute_result"
    }
   ],
   "source": [
    "arr3 = [1,11,25,75,88,247,666]\n",
    "BinarySearch(arr3, 75)"
   ]
  },
  {
   "cell_type": "markdown",
   "id": "571ffc49",
   "metadata": {},
   "source": [
    "Target is not in the array"
   ]
  },
  {
   "cell_type": "code",
   "execution_count": 6,
   "id": "2cd06b60",
   "metadata": {},
   "outputs": [
    {
     "data": {
      "text/plain": [
       "-1"
      ]
     },
     "execution_count": 6,
     "metadata": {},
     "output_type": "execute_result"
    }
   ],
   "source": [
    "arr4 = [1,11,25,75,88,247,666,999]\n",
    "BinarySearch(arr4, 777)"
   ]
  },
  {
   "cell_type": "markdown",
   "id": "8440c64d",
   "metadata": {},
   "source": [
    "### Time complexity: $\\mathcal{O}(\\log n)$\n",
    "### Space complexity: $\\mathcal{O}(1)$"
   ]
  }
 ],
 "metadata": {
  "kernelspec": {
   "display_name": "Python 3 (ipykernel)",
   "language": "python",
   "name": "python3"
  },
  "language_info": {
   "codemirror_mode": {
    "name": "ipython",
    "version": 3
   },
   "file_extension": ".py",
   "mimetype": "text/x-python",
   "name": "python",
   "nbconvert_exporter": "python",
   "pygments_lexer": "ipython3",
   "version": "3.9.13"
  }
 },
 "nbformat": 4,
 "nbformat_minor": 5
}
