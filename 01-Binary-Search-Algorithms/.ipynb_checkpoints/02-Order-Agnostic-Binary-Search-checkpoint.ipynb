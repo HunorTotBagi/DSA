{
 "cells": [
  {
   "cell_type": "markdown",
   "id": "e67c5337",
   "metadata": {},
   "source": [
    "To determine the ordering of a sorted array, one may compare the first and last elements of the array $arr[0] < arr[-1]$. This is the most effective method to determine whether the array is in ascending or descending order."
   ]
  },
  {
   "cell_type": "code",
   "execution_count": 1,
   "id": "f4b54a70",
   "metadata": {},
   "outputs": [],
   "source": [
    "def BinarySearchAD(arr, target):\n",
    "    start = 0\n",
    "    end = len(arr) - 1\n",
    "    asc_or_desc = arr[0] < arr[-1]\n",
    "    while start <= end:\n",
    "        mid = int(start + (end - start) / 2)\n",
    "        if arr[mid] == target:\n",
    "            return mid\n",
    "        if asc_or_desc: # Ascending case.\n",
    "            if target < arr[mid]:\n",
    "                end = mid - 1\n",
    "            elif target > arr[mid]:\n",
    "                start = mid + 1\n",
    "        else: # Descending case.\n",
    "            if target > arr[mid]:\n",
    "                end = mid - 1\n",
    "            elif target < arr[mid]:\n",
    "                start = mid + 1\n",
    "    return -1"
   ]
  },
  {
   "cell_type": "markdown",
   "id": "5ac17853",
   "metadata": {},
   "source": [
    "#### Ascending array"
   ]
  },
  {
   "cell_type": "markdown",
   "id": "bc4e1a80",
   "metadata": {},
   "source": [
    "Target is right to the middle element"
   ]
  },
  {
   "cell_type": "code",
   "execution_count": 2,
   "id": "75f3bdf5",
   "metadata": {},
   "outputs": [
    {
     "data": {
      "text/plain": [
       "8"
      ]
     },
     "execution_count": 2,
     "metadata": {},
     "output_type": "execute_result"
    }
   ],
   "source": [
    "arr1 = [2,4,6,9,11,12,14,20,36,48]\n",
    "BinarySearchAD(arr1, 36)"
   ]
  },
  {
   "cell_type": "markdown",
   "id": "29d974f6",
   "metadata": {},
   "source": [
    "Target is left to the middle element"
   ]
  },
  {
   "cell_type": "code",
   "execution_count": 3,
   "id": "2692572c",
   "metadata": {},
   "outputs": [
    {
     "data": {
      "text/plain": [
       "2"
      ]
     },
     "execution_count": 3,
     "metadata": {},
     "output_type": "execute_result"
    }
   ],
   "source": [
    "arr2 = [1,6,7,99,101,123,124,199,258,666,699,10555,201111]\n",
    "BinarySearchAD(arr2, 7)"
   ]
  },
  {
   "cell_type": "markdown",
   "id": "24d08a49",
   "metadata": {},
   "source": [
    "Target is in the middle"
   ]
  },
  {
   "cell_type": "code",
   "execution_count": 4,
   "id": "1bc9d05d",
   "metadata": {},
   "outputs": [
    {
     "data": {
      "text/plain": [
       "3"
      ]
     },
     "execution_count": 4,
     "metadata": {},
     "output_type": "execute_result"
    }
   ],
   "source": [
    "arr3 = [1,11,25,75,88,247,666]\n",
    "BinarySearchAD(arr3, 75)"
   ]
  },
  {
   "cell_type": "markdown",
   "id": "0196981f",
   "metadata": {},
   "source": [
    "Target is not in the array"
   ]
  },
  {
   "cell_type": "code",
   "execution_count": 5,
   "id": "38021933",
   "metadata": {},
   "outputs": [
    {
     "data": {
      "text/plain": [
       "-1"
      ]
     },
     "execution_count": 5,
     "metadata": {},
     "output_type": "execute_result"
    }
   ],
   "source": [
    "arr4 = [1,11,25,75,88,247,666,999]\n",
    "BinarySearchAD(arr4, 777)"
   ]
  },
  {
   "cell_type": "markdown",
   "id": "d1141243",
   "metadata": {},
   "source": [
    "#### Descending array"
   ]
  },
  {
   "cell_type": "markdown",
   "id": "e5ede412",
   "metadata": {},
   "source": [
    "Target is right to the middle element"
   ]
  },
  {
   "cell_type": "code",
   "execution_count": 6,
   "id": "38081802",
   "metadata": {},
   "outputs": [
    {
     "data": {
      "text/plain": [
       "9"
      ]
     },
     "execution_count": 6,
     "metadata": {},
     "output_type": "execute_result"
    }
   ],
   "source": [
    "arr5 = [99,84,74,66,58,44,30,21,15,8,6,2,1]\n",
    "BinarySearchAD(arr5, 8)"
   ]
  },
  {
   "cell_type": "markdown",
   "id": "971786b1",
   "metadata": {},
   "source": [
    "Target is left to the middle element"
   ]
  },
  {
   "cell_type": "code",
   "execution_count": 7,
   "id": "7b53ebeb",
   "metadata": {},
   "outputs": [
    {
     "data": {
      "text/plain": [
       "0"
      ]
     },
     "execution_count": 7,
     "metadata": {},
     "output_type": "execute_result"
    }
   ],
   "source": [
    "arr6 = [99,84,74,66,58,44,30,21,15,8,6,2,1]\n",
    "BinarySearchAD(arr6, 99)"
   ]
  },
  {
   "cell_type": "markdown",
   "id": "4ed825d1",
   "metadata": {},
   "source": [
    "Target is in the middle"
   ]
  },
  {
   "cell_type": "code",
   "execution_count": 8,
   "id": "ac062132",
   "metadata": {},
   "outputs": [
    {
     "data": {
      "text/plain": [
       "2"
      ]
     },
     "execution_count": 8,
     "metadata": {},
     "output_type": "execute_result"
    }
   ],
   "source": [
    "arr7 = [100,75,50,25,1]\n",
    "BinarySearchAD(arr7, 50)"
   ]
  },
  {
   "cell_type": "markdown",
   "id": "c770c292",
   "metadata": {},
   "source": [
    "Target is not in the array"
   ]
  },
  {
   "cell_type": "code",
   "execution_count": 9,
   "id": "8f3c341d",
   "metadata": {},
   "outputs": [
    {
     "data": {
      "text/plain": [
       "-1"
      ]
     },
     "execution_count": 9,
     "metadata": {},
     "output_type": "execute_result"
    }
   ],
   "source": [
    "arr8 = [99,84,74,66,58,44,30,21,15,8,6,2,1]\n",
    "BinarySearchAD(arr8, -88)"
   ]
  }
 ],
 "metadata": {
  "kernelspec": {
   "display_name": "Python 3 (ipykernel)",
   "language": "python",
   "name": "python3"
  },
  "language_info": {
   "codemirror_mode": {
    "name": "ipython",
    "version": 3
   },
   "file_extension": ".py",
   "mimetype": "text/x-python",
   "name": "python",
   "nbconvert_exporter": "python",
   "pygments_lexer": "ipython3",
   "version": "3.9.13"
  }
 },
 "nbformat": 4,
 "nbformat_minor": 5
}
