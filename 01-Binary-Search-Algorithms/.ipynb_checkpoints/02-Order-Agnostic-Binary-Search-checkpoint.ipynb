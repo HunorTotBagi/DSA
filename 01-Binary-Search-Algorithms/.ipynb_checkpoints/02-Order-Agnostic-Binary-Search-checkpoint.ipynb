{
 "cells": [
  {
   "cell_type": "markdown",
   "id": "e67c5337",
   "metadata": {},
   "source": [
    "How to determine if the sorted array is in ascending or descending order?"
   ]
  },
  {
   "cell_type": "markdown",
   "id": "41b38103",
   "metadata": {},
   "source": [
    "Given a sorted array, determine wether it is ascending or descending.\n",
    "The the best way is to check the first and the last element or the array."
   ]
  },
  {
   "cell_type": "code",
   "execution_count": 1,
   "id": "87f6d528",
   "metadata": {},
   "outputs": [],
   "source": [
    "def asc_or_desc(arr):\n",
    "    return arr[0]<arr[-1]"
   ]
  },
  {
   "cell_type": "markdown",
   "id": "d1fab78d",
   "metadata": {},
   "source": [
    "Extending the BinarySearch function with descending case"
   ]
  },
  {
   "cell_type": "code",
   "execution_count": 2,
   "id": "f4b54a70",
   "metadata": {},
   "outputs": [],
   "source": [
    "def BinarySearch(arr, target):\n",
    "    start = 0\n",
    "    end = len(arr) - 1\n",
    "    while (start <= end):\n",
    "        mid = int(start + (end - start) / 2) # This way int can't \"explode\"\n",
    "        if arr[mid] == target:\n",
    "            return mid\n",
    "        if asc_or_desc(arr): # Ascending case.\n",
    "            if target < arr[mid]:\n",
    "                end = mid - 1\n",
    "            elif target > arr[mid]:\n",
    "                start = mid + 1\n",
    "        else: # Descending case.\n",
    "            if target > arr[mid]:\n",
    "                end = mid - 1\n",
    "            elif target < arr[mid]:\n",
    "                start = mid + 1\n",
    "    print(\"The target %d is not in the list.\" %(target))"
   ]
  },
  {
   "cell_type": "markdown",
   "id": "5ac17853",
   "metadata": {},
   "source": [
    "Case 1 - Ascending array"
   ]
  },
  {
   "cell_type": "markdown",
   "id": "bc4e1a80",
   "metadata": {},
   "source": [
    "Test Case 1.1 - Target is right to the middle element"
   ]
  },
  {
   "cell_type": "code",
   "execution_count": 3,
   "id": "75f3bdf5",
   "metadata": {},
   "outputs": [
    {
     "data": {
      "text/plain": [
       "8"
      ]
     },
     "execution_count": 3,
     "metadata": {},
     "output_type": "execute_result"
    }
   ],
   "source": [
    "arr1 = [2,4,6,9,11,12,14,20,36,48]\n",
    "target1 = 36\n",
    "BinarySearch(arr1, target1)"
   ]
  },
  {
   "cell_type": "code",
   "execution_count": 4,
   "id": "f14f0037",
   "metadata": {},
   "outputs": [
    {
     "data": {
      "text/plain": [
       "36"
      ]
     },
     "execution_count": 4,
     "metadata": {},
     "output_type": "execute_result"
    }
   ],
   "source": [
    "arr1[8]"
   ]
  },
  {
   "cell_type": "markdown",
   "id": "29d974f6",
   "metadata": {},
   "source": [
    "Test Case 1.2 - Target is left to the middle element"
   ]
  },
  {
   "cell_type": "code",
   "execution_count": 5,
   "id": "2692572c",
   "metadata": {},
   "outputs": [
    {
     "data": {
      "text/plain": [
       "2"
      ]
     },
     "execution_count": 5,
     "metadata": {},
     "output_type": "execute_result"
    }
   ],
   "source": [
    "arr2 = [1,6,7,99,101,123,124,199,258,666,699,10555,201111]\n",
    "target2 = 7\n",
    "BinarySearch(arr2, target2)"
   ]
  },
  {
   "cell_type": "code",
   "execution_count": 6,
   "id": "ce731226",
   "metadata": {},
   "outputs": [
    {
     "data": {
      "text/plain": [
       "7"
      ]
     },
     "execution_count": 6,
     "metadata": {},
     "output_type": "execute_result"
    }
   ],
   "source": [
    "arr2[2]"
   ]
  },
  {
   "cell_type": "markdown",
   "id": "24d08a49",
   "metadata": {},
   "source": [
    "Test Case 1.3 - Target is in the middle"
   ]
  },
  {
   "cell_type": "code",
   "execution_count": 7,
   "id": "1bc9d05d",
   "metadata": {},
   "outputs": [
    {
     "data": {
      "text/plain": [
       "3"
      ]
     },
     "execution_count": 7,
     "metadata": {},
     "output_type": "execute_result"
    }
   ],
   "source": [
    "arr3 = [1,11,25,75,88,247,666]\n",
    "target3 = 75\n",
    "BinarySearch(arr3, target3)"
   ]
  },
  {
   "cell_type": "code",
   "execution_count": 8,
   "id": "1652cdc3",
   "metadata": {},
   "outputs": [
    {
     "data": {
      "text/plain": [
       "75"
      ]
     },
     "execution_count": 8,
     "metadata": {},
     "output_type": "execute_result"
    }
   ],
   "source": [
    "arr3[3]"
   ]
  },
  {
   "cell_type": "markdown",
   "id": "0196981f",
   "metadata": {},
   "source": [
    "Test Case 1.4 - Target is not in the array"
   ]
  },
  {
   "cell_type": "code",
   "execution_count": 9,
   "id": "38021933",
   "metadata": {},
   "outputs": [
    {
     "name": "stdout",
     "output_type": "stream",
     "text": [
      "The target 777 is not in the list.\n"
     ]
    }
   ],
   "source": [
    "arr4 = [1,11,25,75,88,247,666,999]\n",
    "target4 = 777\n",
    "BinarySearch(arr4, target4)"
   ]
  },
  {
   "cell_type": "markdown",
   "id": "d1141243",
   "metadata": {},
   "source": [
    "Case 2 - Descending array"
   ]
  },
  {
   "cell_type": "markdown",
   "id": "e5ede412",
   "metadata": {},
   "source": [
    "Test Case 2.1 - Target is right to the middle element"
   ]
  },
  {
   "cell_type": "code",
   "execution_count": 10,
   "id": "38081802",
   "metadata": {},
   "outputs": [
    {
     "data": {
      "text/plain": [
       "9"
      ]
     },
     "execution_count": 10,
     "metadata": {},
     "output_type": "execute_result"
    }
   ],
   "source": [
    "arr5 = [99,84,74,66,58,44,30,21,15,8,6,2,1]\n",
    "target5 = 8\n",
    "BinarySearch(arr5, target5)"
   ]
  },
  {
   "cell_type": "code",
   "execution_count": 11,
   "id": "87867540",
   "metadata": {},
   "outputs": [
    {
     "data": {
      "text/plain": [
       "8"
      ]
     },
     "execution_count": 11,
     "metadata": {},
     "output_type": "execute_result"
    }
   ],
   "source": [
    "arr5[9]"
   ]
  },
  {
   "cell_type": "markdown",
   "id": "971786b1",
   "metadata": {},
   "source": [
    "Test Case 2.2 - Target is left to the middle element"
   ]
  },
  {
   "cell_type": "code",
   "execution_count": 12,
   "id": "7b53ebeb",
   "metadata": {},
   "outputs": [
    {
     "data": {
      "text/plain": [
       "0"
      ]
     },
     "execution_count": 12,
     "metadata": {},
     "output_type": "execute_result"
    }
   ],
   "source": [
    "arr6 = [99,84,74,66,58,44,30,21,15,8,6,2,1]\n",
    "target6 = 99\n",
    "BinarySearch(arr6, target6)"
   ]
  },
  {
   "cell_type": "code",
   "execution_count": 13,
   "id": "a7995bca",
   "metadata": {},
   "outputs": [
    {
     "data": {
      "text/plain": [
       "99"
      ]
     },
     "execution_count": 13,
     "metadata": {},
     "output_type": "execute_result"
    }
   ],
   "source": [
    "arr6[0]"
   ]
  },
  {
   "cell_type": "markdown",
   "id": "4ed825d1",
   "metadata": {},
   "source": [
    "Test Case 2.3 - Target is in the middle"
   ]
  },
  {
   "cell_type": "code",
   "execution_count": 14,
   "id": "ac062132",
   "metadata": {},
   "outputs": [
    {
     "data": {
      "text/plain": [
       "2"
      ]
     },
     "execution_count": 14,
     "metadata": {},
     "output_type": "execute_result"
    }
   ],
   "source": [
    "arr7 = [100,75,50,25,1]\n",
    "target7 = 50\n",
    "BinarySearch(arr7, target7)"
   ]
  },
  {
   "cell_type": "code",
   "execution_count": 15,
   "id": "7c77e8e4",
   "metadata": {},
   "outputs": [
    {
     "data": {
      "text/plain": [
       "50"
      ]
     },
     "execution_count": 15,
     "metadata": {},
     "output_type": "execute_result"
    }
   ],
   "source": [
    "arr7[2]"
   ]
  },
  {
   "cell_type": "markdown",
   "id": "c770c292",
   "metadata": {},
   "source": [
    "Test Case 2.4 - Target is not in the array"
   ]
  },
  {
   "cell_type": "code",
   "execution_count": 16,
   "id": "8f3c341d",
   "metadata": {},
   "outputs": [
    {
     "name": "stdout",
     "output_type": "stream",
     "text": [
      "The target -88 is not in the list.\n"
     ]
    }
   ],
   "source": [
    "arr8 = [99,84,74,66,58,44,30,21,15,8,6,2,1]\n",
    "target8 = -88\n",
    "BinarySearch(arr8, target8)"
   ]
  }
 ],
 "metadata": {
  "kernelspec": {
   "display_name": "Python 3 (ipykernel)",
   "language": "python",
   "name": "python3"
  },
  "language_info": {
   "codemirror_mode": {
    "name": "ipython",
    "version": 3
   },
   "file_extension": ".py",
   "mimetype": "text/x-python",
   "name": "python",
   "nbconvert_exporter": "python",
   "pygments_lexer": "ipython3",
   "version": "3.9.13"
  }
 },
 "nbformat": 4,
 "nbformat_minor": 5
}
