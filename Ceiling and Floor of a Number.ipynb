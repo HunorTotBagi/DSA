{
 "cells": [
  {
   "cell_type": "markdown",
   "id": "981eda68",
   "metadata": {},
   "source": [
    "# Question: Find a ceiling of a target number. Ceiling = smallest number in this array that is greater than or equal to the target number."
   ]
  },
  {
   "cell_type": "code",
   "execution_count": 64,
   "id": "7f3a087e",
   "metadata": {},
   "outputs": [],
   "source": [
    "# Without any hesitation, when we saw (or get) a sorted \n",
    "# array apply Binary Search"
   ]
  },
  {
   "cell_type": "code",
   "execution_count": 65,
   "id": "59ec4c4d",
   "metadata": {},
   "outputs": [],
   "source": [
    "def asc_or_desc(arr):\n",
    "    return arr[0]<arr[-1]"
   ]
  },
  {
   "cell_type": "code",
   "execution_count": 76,
   "id": "e655b244",
   "metadata": {},
   "outputs": [],
   "source": [
    "# Return the index of smallest number >= target\n",
    "def Binary_Search_Ceiling(arr, target):\n",
    "    # What if the target is greater than the greatest number in the array\n",
    "    if target > arr[-1]:\n",
    "        return -1\n",
    "    \n",
    "    start = 0\n",
    "    end = len(arr) - 1\n",
    "    while (start <= end):\n",
    "        mid = int(start + (end - start) / 2) # This way int can't \"explode\"\n",
    "        \n",
    "        if arr[mid] == target:\n",
    "            return mid\n",
    "        \n",
    "        if asc_or_desc(arr): # Ascending case.\n",
    "            if target < arr[mid]:\n",
    "                end = mid - 1\n",
    "            elif target > arr[mid]:\n",
    "                start = mid + 1\n",
    "        else: # Descending case.\n",
    "            if target > arr[mid]:\n",
    "                end = mid - 1\n",
    "            elif target < arr[mid]:\n",
    "                start = mid + 1\n",
    "            \n",
    "    return start # The only change from classical Binary Search\n",
    "    # Because the while loop breaks on this condition\n",
    "    # The next biggest element will be exactyle the \"start\" index"
   ]
  },
  {
   "cell_type": "markdown",
   "id": "b4d04627",
   "metadata": {},
   "source": [
    "### Test Case 1 - Target is not in the list"
   ]
  },
  {
   "cell_type": "code",
   "execution_count": 67,
   "id": "27deed47",
   "metadata": {},
   "outputs": [
    {
     "data": {
      "text/plain": [
       "5"
      ]
     },
     "execution_count": 67,
     "metadata": {},
     "output_type": "execute_result"
    }
   ],
   "source": [
    "arr1 = [2,3,5,9,14,16,18]\n",
    "target1 = 15\n",
    "Binary_Search_Ceiling(arr1, target1)"
   ]
  },
  {
   "cell_type": "markdown",
   "id": "9c551555",
   "metadata": {},
   "source": [
    "### Test Case 2 - Target is in the list"
   ]
  },
  {
   "cell_type": "code",
   "execution_count": 68,
   "id": "fc6d4528",
   "metadata": {},
   "outputs": [
    {
     "data": {
      "text/plain": [
       "5"
      ]
     },
     "execution_count": 68,
     "metadata": {},
     "output_type": "execute_result"
    }
   ],
   "source": [
    "target2 = 16\n",
    "Binary_Search_Ceiling(arr1, target2)"
   ]
  },
  {
   "cell_type": "code",
   "execution_count": 69,
   "id": "7c184967",
   "metadata": {},
   "outputs": [
    {
     "data": {
      "text/plain": [
       "16"
      ]
     },
     "execution_count": 69,
     "metadata": {},
     "output_type": "execute_result"
    }
   ],
   "source": [
    "arr[5]"
   ]
  },
  {
   "cell_type": "markdown",
   "id": "1e512217",
   "metadata": {},
   "source": [
    "# Find the floor of a number"
   ]
  },
  {
   "cell_type": "code",
   "execution_count": 75,
   "id": "ab75921e",
   "metadata": {},
   "outputs": [],
   "source": [
    "# Return the index of greatest number <= target\n",
    "def Binary_Search_Floor(arr, target):\n",
    "    \n",
    "    \n",
    "    start = 0\n",
    "    end = len(arr) - 1\n",
    "    while (start <= end):\n",
    "        mid = int(start + (end - start) / 2) # This way int can't \"explode\"\n",
    "        \n",
    "        if arr[mid] == target:\n",
    "            return mid\n",
    "        \n",
    "        if asc_or_desc(arr): # Ascending case.\n",
    "            if target < arr[mid]:\n",
    "                end = mid - 1\n",
    "            elif target > arr[mid]:\n",
    "                start = mid + 1\n",
    "        else: # Descending case.\n",
    "            if target > arr[mid]:\n",
    "                end = mid - 1\n",
    "            elif target < arr[mid]:\n",
    "                start = mid + 1\n",
    "            \n",
    "    return end # The only change from classical Binary Search\n",
    "    # Because the while loop breaks on this condition\n",
    "    # The prevoous smallest element will be exactyle the \"end\" index"
   ]
  },
  {
   "cell_type": "markdown",
   "id": "9ac8f007",
   "metadata": {},
   "source": [
    "### Test Case 3 - Target is not in the list"
   ]
  },
  {
   "cell_type": "code",
   "execution_count": 71,
   "id": "9fed14df",
   "metadata": {},
   "outputs": [
    {
     "data": {
      "text/plain": [
       "4"
      ]
     },
     "execution_count": 71,
     "metadata": {},
     "output_type": "execute_result"
    }
   ],
   "source": [
    "arr3 = [2,3,5,9,14,16,18]\n",
    "target3 = 15\n",
    "Binary_Search_Floor(arr3, target3)"
   ]
  },
  {
   "cell_type": "code",
   "execution_count": 72,
   "id": "987f862c",
   "metadata": {},
   "outputs": [
    {
     "data": {
      "text/plain": [
       "14"
      ]
     },
     "execution_count": 72,
     "metadata": {},
     "output_type": "execute_result"
    }
   ],
   "source": [
    "arr[4]"
   ]
  },
  {
   "cell_type": "markdown",
   "id": "9e8954a0",
   "metadata": {},
   "source": [
    "### Test Case 4 - Target is in the list"
   ]
  },
  {
   "cell_type": "code",
   "execution_count": 73,
   "id": "9c093c5f",
   "metadata": {},
   "outputs": [
    {
     "data": {
      "text/plain": [
       "1"
      ]
     },
     "execution_count": 73,
     "metadata": {},
     "output_type": "execute_result"
    }
   ],
   "source": [
    "target4 = 3\n",
    "Binary_Search_Floor(arr3, target4)"
   ]
  },
  {
   "cell_type": "code",
   "execution_count": 74,
   "id": "44241e38",
   "metadata": {},
   "outputs": [
    {
     "data": {
      "text/plain": [
       "3"
      ]
     },
     "execution_count": 74,
     "metadata": {},
     "output_type": "execute_result"
    }
   ],
   "source": [
    "arr[1]"
   ]
  },
  {
   "cell_type": "markdown",
   "id": "28761f4a",
   "metadata": {},
   "source": [
    "### Test Case 5 - Target is smaller than the smallest element in the array"
   ]
  },
  {
   "cell_type": "code",
   "execution_count": 77,
   "id": "57f85768",
   "metadata": {},
   "outputs": [
    {
     "data": {
      "text/plain": [
       "-1"
      ]
     },
     "execution_count": 77,
     "metadata": {},
     "output_type": "execute_result"
    }
   ],
   "source": [
    "Binary_Search_Floor(arr3, 1)"
   ]
  }
 ],
 "metadata": {
  "kernelspec": {
   "display_name": "Python 3 (ipykernel)",
   "language": "python",
   "name": "python3"
  },
  "language_info": {
   "codemirror_mode": {
    "name": "ipython",
    "version": 3
   },
   "file_extension": ".py",
   "mimetype": "text/x-python",
   "name": "python",
   "nbconvert_exporter": "python",
   "pygments_lexer": "ipython3",
   "version": "3.9.13"
  }
 },
 "nbformat": 4,
 "nbformat_minor": 5
}
