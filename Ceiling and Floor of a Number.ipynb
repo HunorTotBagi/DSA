{
 "cells": [
  {
   "cell_type": "markdown",
   "id": "5225b119",
   "metadata": {},
   "source": [
    "# Question: Find a ceiling of a target number. Ceiling = smallest number in this array that is greater than or equal to the target number."
   ]
  },
  {
   "cell_type": "code",
   "execution_count": 3,
   "id": "141a7801",
   "metadata": {},
   "outputs": [],
   "source": [
    "# Without any hesitation, when we saw (or get) a sorted \n",
    "# array apply Binary Search"
   ]
  },
  {
   "cell_type": "code",
   "execution_count": 39,
   "id": "053594e4",
   "metadata": {},
   "outputs": [],
   "source": [
    "def asc_or_desc(arr):\n",
    "    return arr[0]<arr[-1]"
   ]
  },
  {
   "cell_type": "code",
   "execution_count": 52,
   "id": "d0c3a4a3",
   "metadata": {},
   "outputs": [],
   "source": [
    "def Binary_Search_Ceiling(arr, target):\n",
    "    start = 0\n",
    "    end = len(arr) - 1\n",
    "    while (start <= end):\n",
    "        mid = int(start + (end - start) / 2) # This way int can't \"explode\"\n",
    "        \n",
    "        if arr[mid] == target:\n",
    "            return mid\n",
    "        \n",
    "        if asc_or_desc(arr): # Ascending case.\n",
    "            if target < arr[mid]:\n",
    "                end = mid - 1\n",
    "            elif target > arr[mid]:\n",
    "                start = mid + 1\n",
    "        else: # Descending case.\n",
    "            if target > arr[mid]:\n",
    "                end = mid - 1\n",
    "            elif target < arr[mid]:\n",
    "                start = mid + 1\n",
    "            \n",
    "    return start # The only change from classical Binary Search\n",
    "    # Because the while loop breaks on this condition\n",
    "    # The next biggest element will be exactyle the \"start\" index"
   ]
  },
  {
   "cell_type": "markdown",
   "id": "af854a44",
   "metadata": {},
   "source": [
    "### Test Case 1 - Target is not in the list"
   ]
  },
  {
   "cell_type": "code",
   "execution_count": 49,
   "id": "2092bcb6",
   "metadata": {},
   "outputs": [
    {
     "data": {
      "text/plain": [
       "16"
      ]
     },
     "execution_count": 49,
     "metadata": {},
     "output_type": "execute_result"
    }
   ],
   "source": [
    "arr1 = [2,3,5,9,14,16,18]\n",
    "target1 = 15\n",
    "Binary_Search_Ceiling(arr1, target1)"
   ]
  },
  {
   "cell_type": "markdown",
   "id": "dde1c277",
   "metadata": {},
   "source": [
    "### Test Case 2 - Target is in the list"
   ]
  },
  {
   "cell_type": "code",
   "execution_count": 53,
   "id": "d647de15",
   "metadata": {},
   "outputs": [
    {
     "data": {
      "text/plain": [
       "5"
      ]
     },
     "execution_count": 53,
     "metadata": {},
     "output_type": "execute_result"
    }
   ],
   "source": [
    "arr2 = [2,3,5,9,14,16,18]\n",
    "target2 = 16\n",
    "Binary_Search_Ceiling(arr2, target2)"
   ]
  },
  {
   "cell_type": "code",
   "execution_count": 54,
   "id": "b7f4b63a",
   "metadata": {},
   "outputs": [
    {
     "data": {
      "text/plain": [
       "16"
      ]
     },
     "execution_count": 54,
     "metadata": {},
     "output_type": "execute_result"
    }
   ],
   "source": [
    "arr[5]"
   ]
  },
  {
   "cell_type": "markdown",
   "id": "0e58ee94",
   "metadata": {},
   "source": [
    "# Find the floor of a number"
   ]
  },
  {
   "cell_type": "code",
   "execution_count": 55,
   "id": "d92cb4a4",
   "metadata": {},
   "outputs": [],
   "source": [
    "def Binary_Search_Floor(arr, target):\n",
    "    start = 0\n",
    "    end = len(arr) - 1\n",
    "    while (start <= end):\n",
    "        mid = int(start + (end - start) / 2) # This way int can't \"explode\"\n",
    "        \n",
    "        if arr[mid] == target:\n",
    "            return mid\n",
    "        \n",
    "        if asc_or_desc(arr): # Ascending case.\n",
    "            if target < arr[mid]:\n",
    "                end = mid - 1\n",
    "            elif target > arr[mid]:\n",
    "                start = mid + 1\n",
    "        else: # Descending case.\n",
    "            if target > arr[mid]:\n",
    "                end = mid - 1\n",
    "            elif target < arr[mid]:\n",
    "                start = mid + 1\n",
    "            \n",
    "    return end # The only change from classical Binary Search\n",
    "    # Because the while loop breaks on this condition\n",
    "    # The next biggest element will be exactyle the \"end\" index"
   ]
  },
  {
   "cell_type": "markdown",
   "id": "896638c6",
   "metadata": {},
   "source": [
    "### Test Case 3 - Target is not in the list"
   ]
  },
  {
   "cell_type": "code",
   "execution_count": 57,
   "id": "c3474cb4",
   "metadata": {},
   "outputs": [
    {
     "data": {
      "text/plain": [
       "4"
      ]
     },
     "execution_count": 57,
     "metadata": {},
     "output_type": "execute_result"
    }
   ],
   "source": [
    "arr3 = [2,3,5,9,14,16,18]\n",
    "target3 = 15\n",
    "Binary_Search_Floor(arr3, target3)"
   ]
  },
  {
   "cell_type": "code",
   "execution_count": 58,
   "id": "2f7adb57",
   "metadata": {},
   "outputs": [
    {
     "data": {
      "text/plain": [
       "14"
      ]
     },
     "execution_count": 58,
     "metadata": {},
     "output_type": "execute_result"
    }
   ],
   "source": [
    "arr[4]"
   ]
  },
  {
   "cell_type": "markdown",
   "id": "4b406df4",
   "metadata": {},
   "source": [
    "### Test Case 4 - Target is in the list"
   ]
  },
  {
   "cell_type": "code",
   "execution_count": null,
   "id": "f78fe02f",
   "metadata": {},
   "outputs": [],
   "source": [
    "target = "
   ]
  },
  {
   "cell_type": "code",
   "execution_count": null,
   "id": "cec0371a",
   "metadata": {},
   "outputs": [],
   "source": [
    "Binary_Search_Floor(arr3, target3)"
   ]
  }
 ],
 "metadata": {
  "kernelspec": {
   "display_name": "Python 3 (ipykernel)",
   "language": "python",
   "name": "python3"
  },
  "language_info": {
   "codemirror_mode": {
    "name": "ipython",
    "version": 3
   },
   "file_extension": ".py",
   "mimetype": "text/x-python",
   "name": "python",
   "nbconvert_exporter": "python",
   "pygments_lexer": "ipython3",
   "version": "3.9.13"
  }
 },
 "nbformat": 4,
 "nbformat_minor": 5
}
