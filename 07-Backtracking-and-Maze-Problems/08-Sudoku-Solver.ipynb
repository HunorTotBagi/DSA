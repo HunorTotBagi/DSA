{
 "cells": [
  {
   "cell_type": "code",
   "execution_count": 30,
   "id": "141e1e8d",
   "metadata": {},
   "outputs": [
    {
     "name": "stdout",
     "output_type": "stream",
     "text": [
      "True\n"
     ]
    }
   ],
   "source": [
    "import numpy as np\n",
    "\n",
    "def display(board):\n",
    "    n = len(board)\n",
    "    for i in range(n):\n",
    "        for j in range(n):\n",
    "            print(board[i][j])\n",
    "\n",
    "def isSafe(board, row, col, num):\n",
    "    n = len(board)\n",
    "     \n",
    "    # Check the row\n",
    "    for i in range(n):\n",
    "        if board[row][i] == num:\n",
    "            return False\n",
    "        \n",
    "    # Check the col\n",
    "    for i in range(n):\n",
    "        if board[i][col] == num:\n",
    "            return False\n",
    "        \n",
    "    sqrt = int(np.sqrt(n))\n",
    "    rowStart = row - row % sqrt\n",
    "    colStart = col - col % sqrt\n",
    "    \n",
    "    for r in range(rowStart, rowStart + sqrt):\n",
    "        for c in range(colStart, colStart + sqrt):\n",
    "            if board[r][c] == num:\n",
    "                return False\n",
    "            \n",
    "    return True\n",
    "        \n",
    "\n",
    "def solve(board):\n",
    "    n = len(board)\n",
    "    row = -1\n",
    "    col = -1\n",
    "    \n",
    "    emptyLeft = True\n",
    "    \n",
    "    for i in range(n):\n",
    "        for j in range(n):\n",
    "            if board[i][j] == 0:\n",
    "                row = i\n",
    "                col = j\n",
    "                emtpyLeft = False\n",
    "                break\n",
    "        # if you found some empty element in row, then break\n",
    "        if emptyLeft == False:\n",
    "            break\n",
    "    if emptyLeft == True:\n",
    "        return True\n",
    "        # Sudoku is solved\n",
    "        \n",
    "    for number in range(1,10):\n",
    "        if isSafe(board, row, col, number):\n",
    "            board[row][col] = number\n",
    "            if solve(board):\n",
    "                return True\n",
    "            else:\n",
    "                board[row][col] = 0\n",
    "    return False\n",
    "            \n",
    "    \n",
    "sudoku = [[5,3,0,0,7,0,0,0,0]\n",
    "         ,[6,0,0,1,9,5,0,0,0]\n",
    "         ,[0,9,8,0,0,0,0,6,0]\n",
    "         ,[8,0,0,0,6,0,0,0,3]\n",
    "         ,[4,0,0,8,0,3,0,0,1]\n",
    "         ,[7,0,0,0,2,0,0,0,6]\n",
    "         ,[0,6,0,0,0,0,2,8,0]\n",
    "         ,[0,0,0,4,1,9,0,0,5]\n",
    "         ,[0,0,0,0,8,0,0,7,9]] \n",
    "\n",
    "print(solve(sudoku))"
   ]
  },
  {
   "cell_type": "code",
   "execution_count": 35,
   "id": "17252089",
   "metadata": {},
   "outputs": [
    {
     "data": {
      "text/plain": [
       "True"
      ]
     },
     "execution_count": 35,
     "metadata": {},
     "output_type": "execute_result"
    }
   ],
   "source": [
    "isSafe(sudoku, 0, 1, 1)"
   ]
  },
  {
   "cell_type": "code",
   "execution_count": null,
   "id": "3dee90e8",
   "metadata": {},
   "outputs": [],
   "source": [
    "sudoku[]"
   ]
  }
 ],
 "metadata": {
  "kernelspec": {
   "display_name": "Python 3 (ipykernel)",
   "language": "python",
   "name": "python3"
  },
  "language_info": {
   "codemirror_mode": {
    "name": "ipython",
    "version": 3
   },
   "file_extension": ".py",
   "mimetype": "text/x-python",
   "name": "python",
   "nbconvert_exporter": "python",
   "pygments_lexer": "ipython3",
   "version": "3.9.13"
  }
 },
 "nbformat": 4,
 "nbformat_minor": 5
}
