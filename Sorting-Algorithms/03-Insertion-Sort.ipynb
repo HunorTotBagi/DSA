{
 "cells": [
  {
   "cell_type": "markdown",
   "id": "c06682eb",
   "metadata": {},
   "source": [
    "### Why use it? It's adaptive: steps get reduced if array is sorted. Number of swaps reduced as compared to bubble sort. Used for smaller values of N => works good when array is partially sorted. It takes part in hybrid sorting algorithms."
   ]
  },
  {
   "cell_type": "code",
   "execution_count": 21,
   "id": "6bed16b9",
   "metadata": {},
   "outputs": [],
   "source": [
    "def swap(arr, first, second):\n",
    "    temp = arr[first]\n",
    "    arr[first] = arr[second]\n",
    "    arr[second] = temp"
   ]
  },
  {
   "cell_type": "code",
   "execution_count": 22,
   "id": "b374e24b",
   "metadata": {},
   "outputs": [],
   "source": [
    "def InsertionSort(arr):\n",
    "    for i in range(len(arr)-1):\n",
    "        j = i + 1\n",
    "        while j > 0:\n",
    "            if arr[j] < arr[j-1]:\n",
    "                swap(arr , j, j-1)\n",
    "                j -= 1\n",
    "            else:\n",
    "                break\n",
    "    return arr"
   ]
  },
  {
   "cell_type": "markdown",
   "id": "243f2738",
   "metadata": {},
   "source": [
    "### Test cases"
   ]
  },
  {
   "cell_type": "code",
   "execution_count": 23,
   "id": "0bbf2e38",
   "metadata": {},
   "outputs": [
    {
     "data": {
      "text/plain": [
       "[2, 3, 4, 8, 46, 52, 61, 66]"
      ]
     },
     "execution_count": 23,
     "metadata": {},
     "output_type": "execute_result"
    }
   ],
   "source": [
    "InsertionSort([66,2,8,4,3,61,52,46])"
   ]
  },
  {
   "cell_type": "code",
   "execution_count": 24,
   "id": "f6b35af7",
   "metadata": {},
   "outputs": [
    {
     "data": {
      "text/plain": [
       "[1, 2, 3, 4, 5]"
      ]
     },
     "execution_count": 24,
     "metadata": {},
     "output_type": "execute_result"
    }
   ],
   "source": [
    "InsertionSort([5,3,4,1,2])"
   ]
  },
  {
   "cell_type": "code",
   "execution_count": 25,
   "id": "3b9792d1",
   "metadata": {},
   "outputs": [
    {
     "data": {
      "text/plain": [
       "[]"
      ]
     },
     "execution_count": 25,
     "metadata": {},
     "output_type": "execute_result"
    }
   ],
   "source": [
    "InsertionSort([])"
   ]
  },
  {
   "cell_type": "code",
   "execution_count": 26,
   "id": "45528f52",
   "metadata": {},
   "outputs": [
    {
     "data": {
      "text/plain": [
       "[-66, -5, 0, 1, 2, 3, 4, 5]"
      ]
     },
     "execution_count": 26,
     "metadata": {},
     "output_type": "execute_result"
    }
   ],
   "source": [
    "InsertionSort([-66,-5,0,5,3,4,1,2])"
   ]
  },
  {
   "cell_type": "code",
   "execution_count": 27,
   "id": "cc76b7b1",
   "metadata": {},
   "outputs": [
    {
     "data": {
      "text/plain": [
       "[-88, 10000]"
      ]
     },
     "execution_count": 27,
     "metadata": {},
     "output_type": "execute_result"
    }
   ],
   "source": [
    "InsertionSort([10000,-88])"
   ]
  },
  {
   "cell_type": "markdown",
   "id": "ea95b43e",
   "metadata": {},
   "source": [
    "### Time complexity O(N^2)"
   ]
  }
 ],
 "metadata": {
  "kernelspec": {
   "display_name": "Python 3 (ipykernel)",
   "language": "python",
   "name": "python3"
  },
  "language_info": {
   "codemirror_mode": {
    "name": "ipython",
    "version": 3
   },
   "file_extension": ".py",
   "mimetype": "text/x-python",
   "name": "python",
   "nbconvert_exporter": "python",
   "pygments_lexer": "ipython3",
   "version": "3.9.13"
  }
 },
 "nbformat": 4,
 "nbformat_minor": 5
}
