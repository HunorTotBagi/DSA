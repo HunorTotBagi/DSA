{
 "cells": [
  {
   "cell_type": "code",
   "execution_count": 3,
   "id": "354a56d0",
   "metadata": {},
   "outputs": [],
   "source": [
    "arr = [4,5,1,2,3]"
   ]
  },
  {
   "cell_type": "markdown",
   "id": "cfd8fea6",
   "metadata": {},
   "source": [
    "### The algorithm selects the maximum element in the array, and put it on the last position. By this it sawps the element. Now we look the (if the lenght of the arrays is N) first N-1 elements and repeate the same process. Same can be done with minimum element."
   ]
  },
  {
   "cell_type": "markdown",
   "id": "307ebb41",
   "metadata": {},
   "source": [
    "### Time complexity worst and best case O(N^2)\n",
    "\n",
    "### Use case: it performs well on small lists / arrays"
   ]
  },
  {
   "cell_type": "code",
   "execution_count": 40,
   "id": "8847fdf5",
   "metadata": {},
   "outputs": [],
   "source": [
    "def GetMaxIndex(arr, start, end):\n",
    "    maxi = start\n",
    "    for i in range(start,end+1):\n",
    "        if arr[maxi] < arr[i]:\n",
    "            maxi = i\n",
    "    return maxi"
   ]
  },
  {
   "cell_type": "code",
   "execution_count": 41,
   "id": "264c37ca",
   "metadata": {},
   "outputs": [],
   "source": [
    "def swap(arr, first, second):\n",
    "    temp = arr[first]\n",
    "    arr[first] = arr[second]\n",
    "    arr[second] = temp"
   ]
  },
  {
   "cell_type": "code",
   "execution_count": 42,
   "id": "ab6eae36",
   "metadata": {},
   "outputs": [],
   "source": [
    "def SelectionSort(arr):\n",
    "    for i in range(len(arr)):\n",
    "        # Find the max item in the remaining array and swap with correct index\n",
    "        last = len(arr) - i - 1\n",
    "        maxIndex = GetMaxIndex(arr, 0, last)\n",
    "        swap(arr, maxIndex, last)\n",
    "    return arr"
   ]
  },
  {
   "cell_type": "code",
   "execution_count": 43,
   "id": "37ebb720",
   "metadata": {},
   "outputs": [
    {
     "data": {
      "text/plain": [
       "[1, 2, 3, 4, 5]"
      ]
     },
     "execution_count": 43,
     "metadata": {},
     "output_type": "execute_result"
    }
   ],
   "source": [
    "SelectionSort([4,5,1,2,3])"
   ]
  },
  {
   "cell_type": "code",
   "execution_count": 44,
   "id": "cfae9140",
   "metadata": {},
   "outputs": [
    {
     "data": {
      "text/plain": [
       "[1, 2, 3, 4, 5]"
      ]
     },
     "execution_count": 44,
     "metadata": {},
     "output_type": "execute_result"
    }
   ],
   "source": [
    "SelectionSort([5,4,3,2,1])"
   ]
  },
  {
   "cell_type": "code",
   "execution_count": 46,
   "id": "8dd5969f",
   "metadata": {},
   "outputs": [
    {
     "data": {
      "text/plain": [
       "[1, 1, 1, 3, 3, 4, 4, 8, 9, 32, 54, 54, 64, 84, 84]"
      ]
     },
     "execution_count": 46,
     "metadata": {},
     "output_type": "execute_result"
    }
   ],
   "source": [
    "SelectionSort([1,54,1,8,4,64,1,3,84,32,54,84,3,4,9])"
   ]
  },
  {
   "cell_type": "code",
   "execution_count": 47,
   "id": "f47762ac",
   "metadata": {},
   "outputs": [
    {
     "data": {
      "text/plain": [
       "[0, 1, 1, 1, 3, 3, 4, 4, 8, 9, 32, 54, 54, 64, 84, 84]"
      ]
     },
     "execution_count": 47,
     "metadata": {},
     "output_type": "execute_result"
    }
   ],
   "source": [
    "SelectionSort([1,54,1,8,4,64,1,3,84,32,54,84,3,4,9,0])"
   ]
  },
  {
   "cell_type": "code",
   "execution_count": 48,
   "id": "65b59768",
   "metadata": {},
   "outputs": [
    {
     "data": {
      "text/plain": [
       "[-99, 1, 1, 1, 3, 3, 4, 4, 8, 9, 32, 54, 54, 64, 84, 84]"
      ]
     },
     "execution_count": 48,
     "metadata": {},
     "output_type": "execute_result"
    }
   ],
   "source": [
    "SelectionSort([1,54,1,-99,8,4,64,1,3,84,32,54,84,3,4,9])"
   ]
  }
 ],
 "metadata": {
  "kernelspec": {
   "display_name": "Python 3 (ipykernel)",
   "language": "python",
   "name": "python3"
  },
  "language_info": {
   "codemirror_mode": {
    "name": "ipython",
    "version": 3
   },
   "file_extension": ".py",
   "mimetype": "text/x-python",
   "name": "python",
   "nbconvert_exporter": "python",
   "pygments_lexer": "ipython3",
   "version": "3.9.13"
  }
 },
 "nbformat": 4,
 "nbformat_minor": 5
}
